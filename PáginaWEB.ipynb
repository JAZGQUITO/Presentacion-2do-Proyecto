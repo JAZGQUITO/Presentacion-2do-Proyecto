{
 "cells": [
  {
   "cell_type": "markdown",
   "metadata": {},
   "source": [
    "La idea de este proyecto es analizar el comportamiento de los usuarios que realizan compras de alimentos a través de la aplicación WEB destinada para este proposito. Veremos si al incorporar un grupo de prueba a los grupos de control ya existente afecta o no el comportamiento de dichos usuarios, es decir, si aumenta el uso de la aplicación y si esto puede repercutir en el incremento de las compras. "
   ]
  },
  {
   "cell_type": "code",
   "execution_count": 4,
   "metadata": {},
   "outputs": [],
   "source": [
    "import pandas as pd\n",
    "import matplotlib.pyplot as plt\n",
    "import numpy as np\n",
    "import seaborn as sns\n",
    "import math as mth\n",
    "import datetime as dt\n",
    "import scipy.stats as st\n",
    "from scipy.stats import ttest_ind\n",
    "from scipy import stats"
   ]
  },
  {
   "cell_type": "markdown",
   "metadata": {},
   "source": [
    "Etapa I"
   ]
  },
  {
   "cell_type": "code",
   "execution_count": 5,
   "metadata": {},
   "outputs": [],
   "source": [
    "data_meals = pd.read_csv('logs_exp_us.csv', sep='\\t')"
   ]
  },
  {
   "cell_type": "code",
   "execution_count": 6,
   "metadata": {},
   "outputs": [
    {
     "name": "stdout",
     "output_type": "stream",
     "text": [
      "<class 'pandas.core.frame.DataFrame'>\n",
      "RangeIndex: 244126 entries, 0 to 244125\n",
      "Data columns (total 4 columns):\n",
      " #   Column          Non-Null Count   Dtype \n",
      "---  ------          --------------   ----- \n",
      " 0   EventName       244126 non-null  object\n",
      " 1   DeviceIDHash    244126 non-null  int64 \n",
      " 2   EventTimestamp  244126 non-null  int64 \n",
      " 3   ExpId           244126 non-null  int64 \n",
      "dtypes: int64(3), object(1)\n",
      "memory usage: 7.5+ MB\n"
     ]
    }
   ],
   "source": [
    "data_meals.info()"
   ]
  },
  {
   "cell_type": "code",
   "execution_count": 7,
   "metadata": {},
   "outputs": [
    {
     "data": {
      "text/html": [
       "<div>\n",
       "<style scoped>\n",
       "    .dataframe tbody tr th:only-of-type {\n",
       "        vertical-align: middle;\n",
       "    }\n",
       "\n",
       "    .dataframe tbody tr th {\n",
       "        vertical-align: top;\n",
       "    }\n",
       "\n",
       "    .dataframe thead th {\n",
       "        text-align: right;\n",
       "    }\n",
       "</style>\n",
       "<table border=\"1\" class=\"dataframe\">\n",
       "  <thead>\n",
       "    <tr style=\"text-align: right;\">\n",
       "      <th></th>\n",
       "      <th>EventName</th>\n",
       "      <th>DeviceIDHash</th>\n",
       "      <th>EventTimestamp</th>\n",
       "      <th>ExpId</th>\n",
       "    </tr>\n",
       "  </thead>\n",
       "  <tbody>\n",
       "    <tr>\n",
       "      <th>0</th>\n",
       "      <td>MainScreenAppear</td>\n",
       "      <td>4575588528974610257</td>\n",
       "      <td>1564029816</td>\n",
       "      <td>246</td>\n",
       "    </tr>\n",
       "  </tbody>\n",
       "</table>\n",
       "</div>"
      ],
      "text/plain": [
       "          EventName         DeviceIDHash  EventTimestamp  ExpId\n",
       "0  MainScreenAppear  4575588528974610257      1564029816    246"
      ]
     },
     "execution_count": 7,
     "metadata": {},
     "output_type": "execute_result"
    }
   ],
   "source": [
    "data_meals.head(1)"
   ]
  },
  {
   "cell_type": "markdown",
   "metadata": {},
   "source": [
    "Etapa II"
   ]
  },
  {
   "cell_type": "code",
   "execution_count": 8,
   "metadata": {},
   "outputs": [
    {
     "data": {
      "text/html": [
       "<div>\n",
       "<style scoped>\n",
       "    .dataframe tbody tr th:only-of-type {\n",
       "        vertical-align: middle;\n",
       "    }\n",
       "\n",
       "    .dataframe tbody tr th {\n",
       "        vertical-align: top;\n",
       "    }\n",
       "\n",
       "    .dataframe thead th {\n",
       "        text-align: right;\n",
       "    }\n",
       "</style>\n",
       "<table border=\"1\" class=\"dataframe\">\n",
       "  <thead>\n",
       "    <tr style=\"text-align: right;\">\n",
       "      <th></th>\n",
       "      <th>nombre_del_evento</th>\n",
       "      <th>id_usuario_unico</th>\n",
       "      <th>hora_del_evento</th>\n",
       "      <th>id_del_experimento</th>\n",
       "    </tr>\n",
       "  </thead>\n",
       "  <tbody>\n",
       "    <tr>\n",
       "      <th>0</th>\n",
       "      <td>MainScreenAppear</td>\n",
       "      <td>4575588528974610257</td>\n",
       "      <td>1564029816</td>\n",
       "      <td>246</td>\n",
       "    </tr>\n",
       "    <tr>\n",
       "      <th>1</th>\n",
       "      <td>MainScreenAppear</td>\n",
       "      <td>7416695313311560658</td>\n",
       "      <td>1564053102</td>\n",
       "      <td>246</td>\n",
       "    </tr>\n",
       "  </tbody>\n",
       "</table>\n",
       "</div>"
      ],
      "text/plain": [
       "  nombre_del_evento     id_usuario_unico  hora_del_evento  id_del_experimento\n",
       "0  MainScreenAppear  4575588528974610257       1564029816                 246\n",
       "1  MainScreenAppear  7416695313311560658       1564053102                 246"
      ]
     },
     "execution_count": 8,
     "metadata": {},
     "output_type": "execute_result"
    }
   ],
   "source": [
    "nuevos_nombres = {\n",
    "    'EventName': 'nombre_del_evento',\n",
    "    'DeviceIDHash': 'id_usuario_unico',\n",
    "    'EventTimestamp': 'hora_del_evento',\n",
    "    'ExpId': 'id_del_experimento'\n",
    "}\n",
    "\n",
    "data_meals = data_meals.rename(columns=nuevos_nombres)\n",
    "data_meals.head(2)"
   ]
  },
  {
   "cell_type": "code",
   "execution_count": 9,
   "metadata": {},
   "outputs": [
    {
     "data": {
      "text/plain": [
       "array(['MainScreenAppear', 'PaymentScreenSuccessful', 'CartScreenAppear',\n",
       "       'OffersScreenAppear', 'Tutorial'], dtype=object)"
      ]
     },
     "execution_count": 9,
     "metadata": {},
     "output_type": "execute_result"
    }
   ],
   "source": [
    "data_meals['nombre_del_evento'].unique()"
   ]
  },
  {
   "cell_type": "code",
   "execution_count": 10,
   "metadata": {},
   "outputs": [
    {
     "data": {
      "text/plain": [
       "(244126, 4)"
      ]
     },
     "execution_count": 10,
     "metadata": {},
     "output_type": "execute_result"
    }
   ],
   "source": [
    "data_meals.shape"
   ]
  },
  {
   "cell_type": "code",
   "execution_count": 11,
   "metadata": {},
   "outputs": [],
   "source": [
    "data_meals['hora_del_evento'] = pd.to_datetime(data_meals['hora_del_evento'])\n"
   ]
  },
  {
   "cell_type": "code",
   "execution_count": 12,
   "metadata": {},
   "outputs": [
    {
     "name": "stdout",
     "output_type": "stream",
     "text": [
      "<class 'pandas.core.frame.DataFrame'>\n",
      "RangeIndex: 244126 entries, 0 to 244125\n",
      "Data columns (total 5 columns):\n",
      " #   Column              Non-Null Count   Dtype         \n",
      "---  ------              --------------   -----         \n",
      " 0   nombre_del_evento   244126 non-null  object        \n",
      " 1   id_usuario_unico    244126 non-null  int64         \n",
      " 2   hora_del_evento     244126 non-null  datetime64[ns]\n",
      " 3   id_del_experimento  244126 non-null  int64         \n",
      " 4   fecha               244126 non-null  datetime64[s] \n",
      "dtypes: datetime64[ns](1), datetime64[s](1), int64(2), object(1)\n",
      "memory usage: 9.3+ MB\n"
     ]
    }
   ],
   "source": [
    "data_meals[\"fecha\"] = data_meals[\"hora_del_evento\"].values.astype(dtype='datetime64[D]')\n",
    "\n",
    "data_meals.info()"
   ]
  },
  {
   "cell_type": "code",
   "execution_count": 13,
   "metadata": {
    "scrolled": true
   },
   "outputs": [
    {
     "data": {
      "text/plain": [
       "False    243713\n",
       "True        413\n",
       "Name: count, dtype: int64"
      ]
     },
     "execution_count": 13,
     "metadata": {},
     "output_type": "execute_result"
    }
   ],
   "source": [
    "data_meals.duplicated().value_counts()"
   ]
  },
  {
   "cell_type": "markdown",
   "metadata": {},
   "source": [
    "Cambié el nombre de las columnas de manera que sean conveniente. No existen valores ausente y hay algunmos valores dupicados pero no es conveniente eliminarlos. Agregué una columna de fecha y hora y una columna separada para las fechas."
   ]
  },
  {
   "cell_type": "markdown",
   "metadata": {},
   "source": [
    "Etapa III"
   ]
  },
  {
   "cell_type": "code",
   "execution_count": 14,
   "metadata": {},
   "outputs": [
    {
     "data": {
      "text/plain": [
       "nombre_del_evento\n",
       "MainScreenAppear           119205\n",
       "OffersScreenAppear          46825\n",
       "CartScreenAppear            42731\n",
       "PaymentScreenSuccessful     34313\n",
       "Tutorial                     1052\n",
       "Name: count, dtype: int64"
      ]
     },
     "execution_count": 14,
     "metadata": {},
     "output_type": "execute_result"
    }
   ],
   "source": [
    "event_counts = data_meals['nombre_del_evento'].value_counts()\n",
    "event_counts"
   ]
  },
  {
   "cell_type": "code",
   "execution_count": 15,
   "metadata": {},
   "outputs": [
    {
     "name": "stdout",
     "output_type": "stream",
     "text": [
      "total de eventos 244126\n"
     ]
    }
   ],
   "source": [
    "total_eventos = event_counts.sum()\n",
    "print('total de eventos', total_eventos)\n"
   ]
  },
  {
   "cell_type": "code",
   "execution_count": 16,
   "metadata": {},
   "outputs": [
    {
     "name": "stdout",
     "output_type": "stream",
     "text": [
      "total id de usuarios 244126\n"
     ]
    }
   ],
   "source": [
    "id_usuarios_counts = data_meals['id_usuario_unico'].value_counts()\n",
    "total_id_usuarios = id_usuarios_counts.sum()\n",
    "print('total id de usuarios', total_id_usuarios)"
   ]
  },
  {
   "cell_type": "code",
   "execution_count": 17,
   "metadata": {},
   "outputs": [
    {
     "name": "stdout",
     "output_type": "stream",
     "text": [
      "Promedio de Eventos por Usuario: 32.33028737915508\n"
     ]
    }
   ],
   "source": [
    "eventos_por_usuario = data_meals.groupby('id_usuario_unico').size()\n",
    "promedio_eventos_por_usuario = eventos_por_usuario.mean()\n",
    "print('Promedio de Eventos por Usuario:',promedio_eventos_por_usuario)"
   ]
  },
  {
   "cell_type": "code",
   "execution_count": 18,
   "metadata": {},
   "outputs": [
    {
     "name": "stdout",
     "output_type": "stream",
     "text": [
      "Fecha mínima: 1970-01-01 00:00:01.564029816\n",
      "Fecha máxima: 1970-01-01 00:00:01.565212517\n"
     ]
    }
   ],
   "source": [
    "fecha_minima = data_meals['hora_del_evento'].min()\n",
    "fecha_maxima = data_meals['hora_del_evento'].max()\n",
    "\n",
    "print(f\"Fecha mínima: {fecha_minima}\")\n",
    "print(f\"Fecha máxima: {fecha_maxima}\")"
   ]
  },
  {
   "cell_type": "code",
   "execution_count": 19,
   "metadata": {},
   "outputs": [
    {
     "data": {
      "image/png": "[encoded data removed]",
      "text/plain": [
       "<Figure size 1200x600 with 1 Axes>"
      ]
     },
     "metadata": {},
     "output_type": "display_data"
    }
   ],
   "source": [
    "plt.figure(figsize=(12, 6))\n",
    "sns.histplot(data_meals['hora_del_evento'], bins=30, kde=False)  \n",
    "plt.title('Distribución de Eventos por hora')\n",
    "plt.xlabel('Hora')\n",
    "plt.ylabel('Número de Eventos')\n",
    "plt.xticks(rotation=45)\n",
    "plt.show()"
   ]
  },
  {
   "cell_type": "code",
   "execution_count": 20,
   "metadata": {},
   "outputs": [
    {
     "name": "stdout",
     "output_type": "stream",
     "text": [
      "Fecha mínima filtrada: 1970-01-01 00:00:01.564600019\n",
      "Fecha máxima filtrada: 1970-01-01 00:00:01.565212517\n"
     ]
    }
   ],
   "source": [
    "punto_corte = pd.Timestamp('1970-01-01 00:00:01.564600')\n",
    "data_filtrada = data_meals[data_meals['hora_del_evento'] > punto_corte]\n",
    "fecha_minima_filtrada = data_filtrada['hora_del_evento'].min()\n",
    "fecha_maxima_filtrada = data_filtrada['hora_del_evento'].max()\n",
    "\n",
    "print(f\"Fecha mínima filtrada: {fecha_minima_filtrada}\")\n",
    "print(f\"Fecha máxima filtrada: {fecha_maxima_filtrada}\")"
   ]
  },
  {
   "cell_type": "code",
   "execution_count": 21,
   "metadata": {},
   "outputs": [
    {
     "data": {
      "image/png": "[encoded data removed]",
      "text/plain": [
       "<Figure size 1200x600 with 1 Axes>"
      ]
     },
     "metadata": {},
     "output_type": "display_data"
    }
   ],
   "source": [
    "plt.figure(figsize=(12, 6))\n",
    "sns.histplot(data_filtrada['hora_del_evento'], bins=30, kde=False)\n",
    "plt.title('Distribución de Eventos por hora (Filtrada)')\n",
    "plt.xlabel('Hora')\n",
    "plt.ylabel('Número de Eventos')\n",
    "plt.xticks(rotation=45)\n",
    "plt.show()"
   ]
  },
  {
   "cell_type": "code",
   "execution_count": 22,
   "metadata": {},
   "outputs": [
    {
     "name": "stdout",
     "output_type": "stream",
     "text": [
      "Total de eventos antes del filtro: 244126\n",
      "Total de usuarios antes del filtro: 7551\n"
     ]
    }
   ],
   "source": [
    "total_eventos_inicial = data_meals.shape[0]\n",
    "total_usuarios_inicial = data_meals['id_usuario_unico'].nunique()\n",
    "\n",
    "print(f\"Total de eventos antes del filtro: {total_eventos_inicial}\")\n",
    "print(f\"Total de usuarios antes del filtro: {total_usuarios_inicial}\")"
   ]
  },
  {
   "cell_type": "code",
   "execution_count": 23,
   "metadata": {},
   "outputs": [
    {
     "name": "stdout",
     "output_type": "stream",
     "text": [
      "Total de eventos después del filtro: 242251\n",
      "Total de usuarios después del filtro: 7539\n"
     ]
    }
   ],
   "source": [
    "total_eventos_filtrado = data_filtrada.shape[0]\n",
    "total_usuarios_filtrado = data_filtrada['id_usuario_unico'].nunique()\n",
    "\n",
    "print(f\"Total de eventos después del filtro: {total_eventos_filtrado}\")\n",
    "print(f\"Total de usuarios después del filtro: {total_usuarios_filtrado}\")"
   ]
  },
  {
   "cell_type": "code",
   "execution_count": 24,
   "metadata": {},
   "outputs": [
    {
     "name": "stdout",
     "output_type": "stream",
     "text": [
      "Pérdida de eventos: 1875\n",
      "Pérdida de usuarios: 12\n",
      "Porcentaje de pérdida de eventos: 0.77%\n",
      "Porcentaje de pérdida de usuarios: 0.16%\n"
     ]
    }
   ],
   "source": [
    "pérdida_eventos = total_eventos_inicial - total_eventos_filtrado\n",
    "pérdida_usuarios = total_usuarios_inicial - total_usuarios_filtrado\n",
    "\n",
    "print(f\"Pérdida de eventos: {pérdida_eventos}\")\n",
    "print(f\"Pérdida de usuarios: {pérdida_usuarios}\")\n",
    "\n",
    "\n",
    "porcentaje_pérdida_eventos = (pérdida_eventos / total_eventos_inicial) * 100\n",
    "porcentaje_pérdida_usuarios = (pérdida_usuarios / total_usuarios_inicial) * 100\n",
    "\n",
    "print(f\"Porcentaje de pérdida de eventos: {porcentaje_pérdida_eventos:.2f}%\")\n",
    "print(f\"Porcentaje de pérdida de usuarios: {porcentaje_pérdida_usuarios:.2f}%\")\n"
   ]
  },
  {
   "cell_type": "code",
   "execution_count": 25,
   "metadata": {},
   "outputs": [
    {
     "name": "stdout",
     "output_type": "stream",
     "text": [
      "Grupos experimentales disponibles: [247 248 246]\n"
     ]
    }
   ],
   "source": [
    "grupos_experimentales = data_filtrada['id_del_experimento'].unique()\n",
    "print(f\"Grupos experimentales disponibles: {grupos_experimentales}\")"
   ]
  },
  {
   "cell_type": "code",
   "execution_count": 26,
   "metadata": {
    "scrolled": true
   },
   "outputs": [
    {
     "name": "stdout",
     "output_type": "stream",
     "text": [
      "Número de usuarios por grupo experimental:\n",
      "id_del_experimento\n",
      "246    2484\n",
      "247    2517\n",
      "248    2538\n",
      "Name: id_usuario_unico, dtype: int64\n",
      "Todos los grupos experimentales tienen usuarios.\n"
     ]
    }
   ],
   "source": [
    "usuarios_por_grupo = data_filtrada.groupby('id_del_experimento')['id_usuario_unico'].nunique()\n",
    "\n",
    "print(\"Número de usuarios por grupo experimental:\")\n",
    "print(usuarios_por_grupo)\n",
    "\n",
    "grupos_sin_usuarios = usuarios_por_grupo[usuarios_por_grupo == 0].index\n",
    "if grupos_sin_usuarios.empty:\n",
    "    print(\"Todos los grupos experimentales tienen usuarios.\")\n",
    "else:\n",
    "    print(f\"Grupos experimentales sin usuarios: {grupos_sin_usuarios.tolist()}\")"
   ]
  },
  {
   "cell_type": "markdown",
   "metadata": {},
   "source": [
    "Se pudo calcular cuántos eventos hay en los registros, cuántos usuarios hay en los registros, cuál es el promedio de eventos por usuario.\n",
    "Igualmente obtuvimos el periodo de tiempo que cubren los datos y las fechas máxima y mínima. Grafiqué un histograma por fecha y hora.\n",
    "Realicé un filtro en las fechas/horas.\n",
    "La perdida de usuarios y eventos fueron:\n",
    "Porcentaje de pérdida de eventos: 0.77%\n",
    "Porcentaje de pérdida de usuarios: 0.16%\n",
    "\n",
    "Si existen usuarios de los tres grupos experimentales."
   ]
  },
  {
   "cell_type": "code",
   "execution_count": 27,
   "metadata": {},
   "outputs": [
    {
     "data": {
      "image/png": "[encoded data removed]",
      "text/plain": [
       "<Figure size 1000x700 with 1 Axes>"
      ]
     },
     "metadata": {},
     "output_type": "display_data"
    }
   ],
   "source": [
    "plt.figure(figsize=(10, 7))\n",
    "sns.histplot(data_filtrada['nombre_del_evento'], bins=10, kde=False)\n",
    "plt.title('Frecuencia de Eventos')\n",
    "plt.xlabel('Eventos')\n",
    "plt.ylabel('Número de Eventos')\n",
    "plt.xticks(rotation=45)\n",
    "plt.show()"
   ]
  },
  {
   "cell_type": "markdown",
   "metadata": {},
   "source": [
    "<div class=\"alert alert-block alert-success\">\n",
    "<b>Comentario del revisor</b> <a class=\"tocSkip\"></a>\n",
    "\n",
    "Gran trabajo con los ajustes!\n",
    "</div>"
   ]
  },
  {
   "cell_type": "markdown",
   "metadata": {},
   "source": [
    "Etapa IV"
   ]
  },
  {
   "cell_type": "code",
   "execution_count": 28,
   "metadata": {},
   "outputs": [
    {
     "data": {
      "text/html": [
       "<div>\n",
       "<style scoped>\n",
       "    .dataframe tbody tr th:only-of-type {\n",
       "        vertical-align: middle;\n",
       "    }\n",
       "\n",
       "    .dataframe tbody tr th {\n",
       "        vertical-align: top;\n",
       "    }\n",
       "\n",
       "    .dataframe thead th {\n",
       "        text-align: right;\n",
       "    }\n",
       "</style>\n",
       "<table border=\"1\" class=\"dataframe\">\n",
       "  <thead>\n",
       "    <tr style=\"text-align: right;\">\n",
       "      <th></th>\n",
       "      <th>nombre_del_evento</th>\n",
       "      <th>id_usuario_unico</th>\n",
       "      <th>hora_del_evento</th>\n",
       "      <th>id_del_experimento</th>\n",
       "      <th>fecha</th>\n",
       "    </tr>\n",
       "  </thead>\n",
       "  <tbody>\n",
       "    <tr>\n",
       "      <th>1875</th>\n",
       "      <td>CartScreenAppear</td>\n",
       "      <td>6100683422866094409</td>\n",
       "      <td>1970-01-01 00:00:01.564600019</td>\n",
       "      <td>247</td>\n",
       "      <td>1970-01-01</td>\n",
       "    </tr>\n",
       "    <tr>\n",
       "      <th>1876</th>\n",
       "      <td>PaymentScreenSuccessful</td>\n",
       "      <td>6100683422866094409</td>\n",
       "      <td>1970-01-01 00:00:01.564600019</td>\n",
       "      <td>247</td>\n",
       "      <td>1970-01-01</td>\n",
       "    </tr>\n",
       "  </tbody>\n",
       "</table>\n",
       "</div>"
      ],
      "text/plain": [
       "            nombre_del_evento     id_usuario_unico  \\\n",
       "1875         CartScreenAppear  6100683422866094409   \n",
       "1876  PaymentScreenSuccessful  6100683422866094409   \n",
       "\n",
       "                   hora_del_evento  id_del_experimento      fecha  \n",
       "1875 1970-01-01 00:00:01.564600019                 247 1970-01-01  \n",
       "1876 1970-01-01 00:00:01.564600019                 247 1970-01-01  "
      ]
     },
     "execution_count": 28,
     "metadata": {},
     "output_type": "execute_result"
    }
   ],
   "source": [
    "data_filtrada.head(2)"
   ]
  },
  {
   "cell_type": "code",
   "execution_count": 29,
   "metadata": {},
   "outputs": [
    {
     "name": "stdout",
     "output_type": "stream",
     "text": [
      "Frecuencias de sucesos\n",
      "______________________\n",
      "nombre_del_evento\n",
      "MainScreenAppear           118054\n",
      "OffersScreenAppear          46575\n",
      "CartScreenAppear            42423\n",
      "PaymentScreenSuccessful     34155\n",
      "Tutorial                     1044\n",
      "Name: count, dtype: int64\n"
     ]
    }
   ],
   "source": [
    "frecuencias = data_filtrada['nombre_del_evento'].value_counts()\n",
    "\n",
    "print('Frecuencias de sucesos')\n",
    "print('______________________')\n",
    "print(frecuencias)"
   ]
  },
  {
   "cell_type": "code",
   "execution_count": 30,
   "metadata": {},
   "outputs": [
    {
     "name": "stdout",
     "output_type": "stream",
     "text": [
      "\n",
      "Proporción de usuarios que realizaron al menos una acción:\n",
      "1.0\n"
     ]
    }
   ],
   "source": [
    "total_usuarios = data_filtrada['id_usuario_unico'].nunique()\n",
    "\n",
    "usuarios_con_acciones = data_filtrada['id_usuario_unico'].unique()\n",
    "proporcion_usuarios_con_acciones = len(usuarios_con_acciones) / total_usuarios\n",
    "\n",
    "print(\"\\nProporción de usuarios que realizaron al menos una acción:\")\n",
    "print(proporcion_usuarios_con_acciones)"
   ]
  },
  {
   "cell_type": "code",
   "execution_count": 31,
   "metadata": {},
   "outputs": [
    {
     "data": {
      "text/html": [
       "<div>\n",
       "<style scoped>\n",
       "    .dataframe tbody tr th:only-of-type {\n",
       "        vertical-align: middle;\n",
       "    }\n",
       "\n",
       "    .dataframe tbody tr th {\n",
       "        vertical-align: top;\n",
       "    }\n",
       "\n",
       "    .dataframe thead th {\n",
       "        text-align: right;\n",
       "    }\n",
       "</style>\n",
       "<table border=\"1\" class=\"dataframe\">\n",
       "  <thead>\n",
       "    <tr style=\"text-align: right;\">\n",
       "      <th></th>\n",
       "      <th>nombre_del_evento</th>\n",
       "      <th>id_usuario_unico</th>\n",
       "      <th>usuario_en_etapa_previa</th>\n",
       "      <th>conversion_etapa_previa</th>\n",
       "      <th>dropoff_rate</th>\n",
       "    </tr>\n",
       "  </thead>\n",
       "  <tbody>\n",
       "    <tr>\n",
       "      <th>0</th>\n",
       "      <td>MainScreenAppear</td>\n",
       "      <td>7424</td>\n",
       "      <td>NaN</td>\n",
       "      <td>NaN</td>\n",
       "      <td>NaN</td>\n",
       "    </tr>\n",
       "    <tr>\n",
       "      <th>1</th>\n",
       "      <td>OffersScreenAppear</td>\n",
       "      <td>4599</td>\n",
       "      <td>7424.0</td>\n",
       "      <td>0.619477</td>\n",
       "      <td>0.380523</td>\n",
       "    </tr>\n",
       "    <tr>\n",
       "      <th>2</th>\n",
       "      <td>CartScreenAppear</td>\n",
       "      <td>3736</td>\n",
       "      <td>4599.0</td>\n",
       "      <td>0.812351</td>\n",
       "      <td>0.187649</td>\n",
       "    </tr>\n",
       "    <tr>\n",
       "      <th>3</th>\n",
       "      <td>PaymentScreenSuccessful</td>\n",
       "      <td>3540</td>\n",
       "      <td>3736.0</td>\n",
       "      <td>0.947537</td>\n",
       "      <td>0.052463</td>\n",
       "    </tr>\n",
       "    <tr>\n",
       "      <th>4</th>\n",
       "      <td>Tutorial</td>\n",
       "      <td>843</td>\n",
       "      <td>3540.0</td>\n",
       "      <td>0.238136</td>\n",
       "      <td>0.761864</td>\n",
       "    </tr>\n",
       "  </tbody>\n",
       "</table>\n",
       "</div>"
      ],
      "text/plain": [
       "         nombre_del_evento  id_usuario_unico  usuario_en_etapa_previa  \\\n",
       "0         MainScreenAppear              7424                      NaN   \n",
       "1       OffersScreenAppear              4599                   7424.0   \n",
       "2         CartScreenAppear              3736                   4599.0   \n",
       "3  PaymentScreenSuccessful              3540                   3736.0   \n",
       "4                 Tutorial               843                   3540.0   \n",
       "\n",
       "   conversion_etapa_previa  dropoff_rate  \n",
       "0                      NaN           NaN  \n",
       "1                 0.619477      0.380523  \n",
       "2                 0.812351      0.187649  \n",
       "3                 0.947537      0.052463  \n",
       "4                 0.238136      0.761864  "
      ]
     },
     "execution_count": 31,
     "metadata": {},
     "output_type": "execute_result"
    }
   ],
   "source": [
    "users_by_event = data_filtrada.groupby(\"nombre_del_evento\")[\"id_usuario_unico\"].nunique().sort_values(ascending=False).reset_index()\n",
    "users_by_event[\"usuario_en_etapa_previa\"] = users_by_event[\"id_usuario_unico\"].shift(1)\n",
    "users_by_event[\"conversion_etapa_previa\"] = users_by_event[\"id_usuario_unico\"] / \\\n",
    "    users_by_event[\"usuario_en_etapa_previa\"]\n",
    "users_by_event[\"dropoff_rate\"] = 1 - users_by_event[\"conversion_etapa_previa\"]\n",
    "\n",
    "users_by_event.head()"
   ]
  },
  {
   "cell_type": "code",
   "execution_count": 32,
   "metadata": {},
   "outputs": [
    {
     "name": "stdout",
     "output_type": "stream",
     "text": [
      "Proporción de usuarios desde la primera hasta la última etapa: 11.36%\n"
     ]
    }
   ],
   "source": [
    "total_primera_etapa = users_by_event[\"id_usuario_unico\"].iloc[0]\n",
    "\n",
    "total_ultima_etapa = users_by_event[\"id_usuario_unico\"].iloc[-1]\n",
    "\n",
    "proporcion = total_ultima_etapa / total_primera_etapa\n",
    "\n",
    "print(f\"Proporción de usuarios desde la primera hasta la última etapa: {proporcion:.2%}\")"
   ]
  },
  {
   "cell_type": "markdown",
   "metadata": {},
   "source": [
    "Etapa V"
   ]
  },
  {
   "cell_type": "code",
   "execution_count": 33,
   "metadata": {},
   "outputs": [
    {
     "name": "stdout",
     "output_type": "stream",
     "text": [
      "Cantidad de usuarios que hay en cada grupo\n"
     ]
    },
    {
     "data": {
      "text/plain": [
       "id_del_experimento\n",
       "246    2484\n",
       "247    2517\n",
       "248    2538\n",
       "Name: id_usuario_unico, dtype: int64"
      ]
     },
     "execution_count": 33,
     "metadata": {},
     "output_type": "execute_result"
    }
   ],
   "source": [
    "print('Cantidad de usuarios que hay en cada grupo')\n",
    "\n",
    "data_filtrada.groupby(\"id_del_experimento\")[\"id_usuario_unico\"].nunique()"
   ]
  },
  {
   "cell_type": "code",
   "execution_count": 34,
   "metadata": {},
   "outputs": [
    {
     "name": "stdout",
     "output_type": "stream",
     "text": [
      "Estadístico t: -10.408378885402266\n",
      "Valor p: 2.3141101249613826e-25\n",
      "Hay una diferencia estadísticamente significativa.\n"
     ]
    }
   ],
   "source": [
    "muestra_246 = data_filtrada[data_filtrada['id_del_experimento'] == 246]['id_usuario_unico']\n",
    "muestra_247 = data_filtrada[data_filtrada['id_del_experimento'] == 247]['id_usuario_unico']\n",
    "\n",
    "t_stat, p_value = stats.ttest_ind(muestra_246, muestra_247)\n",
    "\n",
    "print(f\"Estadístico t: {t_stat}\")\n",
    "print(f\"Valor p: {p_value}\")\n",
    "\n",
    "alpha = 0.05\n",
    "if p_value < alpha:\n",
    "    print(\"Hay una diferencia estadísticamente significativa.\")\n",
    "else:\n",
    "    print(\"No hay una diferencia estadísticamente significativa.\")"
   ]
  },
  {
   "cell_type": "code",
   "execution_count": 35,
   "metadata": {},
   "outputs": [
    {
     "data": {
      "text/html": [
       "<div>\n",
       "<style scoped>\n",
       "    .dataframe tbody tr th:only-of-type {\n",
       "        vertical-align: middle;\n",
       "    }\n",
       "\n",
       "    .dataframe tbody tr th {\n",
       "        vertical-align: top;\n",
       "    }\n",
       "\n",
       "    .dataframe thead th {\n",
       "        text-align: right;\n",
       "    }\n",
       "</style>\n",
       "<table border=\"1\" class=\"dataframe\">\n",
       "  <thead>\n",
       "    <tr style=\"text-align: right;\">\n",
       "      <th></th>\n",
       "      <th>nombre_del_evento</th>\n",
       "      <th>id_usuario_unico</th>\n",
       "      <th>hora_del_evento</th>\n",
       "      <th>id_del_experimento</th>\n",
       "      <th>fecha</th>\n",
       "    </tr>\n",
       "  </thead>\n",
       "  <tbody>\n",
       "    <tr>\n",
       "      <th>1875</th>\n",
       "      <td>CartScreenAppear</td>\n",
       "      <td>6100683422866094409</td>\n",
       "      <td>1970-01-01 00:00:01.564600019</td>\n",
       "      <td>247</td>\n",
       "      <td>1970-01-01</td>\n",
       "    </tr>\n",
       "    <tr>\n",
       "      <th>1876</th>\n",
       "      <td>PaymentScreenSuccessful</td>\n",
       "      <td>6100683422866094409</td>\n",
       "      <td>1970-01-01 00:00:01.564600019</td>\n",
       "      <td>247</td>\n",
       "      <td>1970-01-01</td>\n",
       "    </tr>\n",
       "  </tbody>\n",
       "</table>\n",
       "</div>"
      ],
      "text/plain": [
       "            nombre_del_evento     id_usuario_unico  \\\n",
       "1875         CartScreenAppear  6100683422866094409   \n",
       "1876  PaymentScreenSuccessful  6100683422866094409   \n",
       "\n",
       "                   hora_del_evento  id_del_experimento      fecha  \n",
       "1875 1970-01-01 00:00:01.564600019                 247 1970-01-01  \n",
       "1876 1970-01-01 00:00:01.564600019                 247 1970-01-01  "
      ]
     },
     "execution_count": 35,
     "metadata": {},
     "output_type": "execute_result"
    }
   ],
   "source": [
    "data_filtrada.head(2)"
   ]
  },
  {
   "cell_type": "code",
   "execution_count": 36,
   "metadata": {},
   "outputs": [
    {
     "name": "stdout",
     "output_type": "stream",
     "text": [
      "         nombre_del_evento  conteo_246  conteo_247  conteo_248\n",
      "0         CartScreenAppear       14724       12467       15232\n",
      "1         MainScreenAppear       37907       39346       40801\n",
      "2       OffersScreenAppear       14839       15253       16483\n",
      "3  PaymentScreenSuccessful       11920       10048       12187\n",
      "4                 Tutorial         323         345         376\n"
     ]
    }
   ],
   "source": [
    "conteo = data_filtrada.pivot_table(index='nombre_del_evento', \n",
    "                                   columns='id_del_experimento', \n",
    "                                   aggfunc='size', \n",
    "                                   fill_value=0).reset_index()\n",
    "\n",
    "conteo.columns.name = None  \n",
    "conteo = conteo.rename(columns={246: 'conteo_246', 247: 'conteo_247', 248: 'conteo_248'})\n",
    "\n",
    "print(conteo)"
   ]
  },
  {
   "cell_type": "code",
   "execution_count": 37,
   "metadata": {},
   "outputs": [
    {
     "data": {
      "image/png": "[encoded data removed]",
      "text/plain": [
       "<Figure size 1000x600 with 1 Axes>"
      ]
     },
     "metadata": {},
     "output_type": "display_data"
    }
   ],
   "source": [
    "sns.set(style=\"whitegrid\")\n",
    "\n",
    "plt.figure(figsize=(10, 6))\n",
    "\n",
    "conteo_long = conteo.melt(id_vars='nombre_del_evento', \n",
    "                          value_vars=['conteo_246', 'conteo_247', 'conteo_248'],\n",
    "                          var_name='Experimento', \n",
    "                          value_name='Conteo')\n",
    "\n",
    "sns.barplot(data=conteo_long, x='nombre_del_evento', y='Conteo', hue='Experimento')\n",
    "\n",
    "plt.xticks(rotation=70)\n",
    "plt.xlabel('Nombre del Evento')\n",
    "plt.ylabel('Conteo')\n",
    "plt.title('Conteo por Evento y Experimento')\n",
    "plt.legend(title='Experimento')\n",
    "\n",
    "# Mostrar gráfico\n",
    "plt.tight_layout()\n",
    "plt.show()"
   ]
  },
  {
   "cell_type": "code",
   "execution_count": 38,
   "metadata": {},
   "outputs": [
    {
     "name": "stdout",
     "output_type": "stream",
     "text": [
      "Cantidad de usuarios que realizaron el evento 'MainScreenAppear' en cada grupo de control:\n",
      " id_del_experimento\n",
      "246    2450\n",
      "247    2479\n",
      "Name: id_usuario_unico, dtype: int64\n",
      "Proporción de usuarios que realizaron el evento 'MainScreenAppear' en cada grupo de control:\n",
      " id_del_experimento\n",
      "246    0.986312\n",
      "247    0.984903\n",
      "Name: id_usuario_unico, dtype: float64\n"
     ]
    }
   ],
   "source": [
    "df_evento = data_filtrada[data_filtrada['nombre_del_evento'] == 'MainScreenAppear']\n",
    "\n",
    "usuarios_evento = df_evento.groupby('id_del_experimento')['id_usuario_unico'].nunique()\n",
    "usuarios_filtrado = usuarios_evento[usuarios_evento.index.isin([246, 247])]\n",
    "\n",
    "total_usuarios = data_filtrada.groupby('id_del_experimento')['id_usuario_unico'].nunique()\n",
    "total_filtrado = total_usuarios[total_usuarios.index.isin([246,247])]\n",
    "\n",
    "proporcion_evento = usuarios_filtrado/total_filtrado\n",
    "\n",
    "print(\"Cantidad de usuarios que realizaron el evento 'MainScreenAppear' en cada grupo de control:\\n\", usuarios_filtrado)\n",
    "print(\"Proporción de usuarios que realizaron el evento 'MainScreenAppear' en cada grupo de control:\\n\", proporcion_evento)"
   ]
  },
  {
   "cell_type": "code",
   "execution_count": 39,
   "metadata": {},
   "outputs": [
    {
     "name": "stdout",
     "output_type": "stream",
     "text": [
      "Evento: OffersScreenAppear\n",
      "Cantidad de usuarios que realizaron el evento en cada grupo de control:\n",
      " id_del_experimento\n",
      "246    1542\n",
      "247    1525\n",
      "Name: id_usuario_unico, dtype: int64\n",
      "Proporción de usuarios que realizaron el evento en cada grupo de control:\n",
      " id_del_experimento\n",
      "246    0.620773\n",
      "247    0.605880\n",
      "Name: id_usuario_unico, dtype: float64\n",
      "\n",
      "Evento: CartScreenAppear\n",
      "Cantidad de usuarios que realizaron el evento en cada grupo de control:\n",
      " id_del_experimento\n",
      "246    1266\n",
      "247    1239\n",
      "Name: id_usuario_unico, dtype: int64\n",
      "Proporción de usuarios que realizaron el evento en cada grupo de control:\n",
      " id_del_experimento\n",
      "246    0.509662\n",
      "247    0.492253\n",
      "Name: id_usuario_unico, dtype: float64\n",
      "\n",
      "Evento: PaymentScreenSuccessful\n",
      "Cantidad de usuarios que realizaron el evento en cada grupo de control:\n",
      " id_del_experimento\n",
      "246    1200\n",
      "247    1158\n",
      "Name: id_usuario_unico, dtype: int64\n",
      "Proporción de usuarios que realizaron el evento en cada grupo de control:\n",
      " id_del_experimento\n",
      "246    0.483092\n",
      "247    0.460072\n",
      "Name: id_usuario_unico, dtype: float64\n",
      "\n",
      "Evento: Tutorial\n",
      "Cantidad de usuarios que realizaron el evento en cada grupo de control:\n",
      " id_del_experimento\n",
      "246    278\n",
      "247    284\n",
      "Name: id_usuario_unico, dtype: int64\n",
      "Proporción de usuarios que realizaron el evento en cada grupo de control:\n",
      " id_del_experimento\n",
      "246    0.111916\n",
      "247    0.112833\n",
      "Name: id_usuario_unico, dtype: float64\n",
      "\n"
     ]
    }
   ],
   "source": [
    "eventos = ['OffersScreenAppear', 'CartScreenAppear', 'PaymentScreenSuccessful', 'Tutorial']\n",
    "\n",
    "resultados = {}\n",
    "\n",
    "for evento in eventos:\n",
    "    df_evento = data_filtrada[data_filtrada['nombre_del_evento'] == evento]\n",
    "    \n",
    "    usuarios_evento = df_evento.groupby('id_del_experimento')['id_usuario_unico'].nunique()\n",
    "    usuarios_filtrados = usuarios_evento[usuarios_evento.index.isin([246, 247])]\n",
    "\n",
    "    total_usuarios = data_filtrada.groupby('id_del_experimento')['id_usuario_unico'].nunique()\n",
    "    total_filtrado = total_usuarios[total_usuarios.index.isin([246,247])]\n",
    "\n",
    "    proporcion_eventos = usuarios_filtrados/total_filtrado\n",
    "\n",
    "    resultados[evento] = {\n",
    "        'usuarios_filtrados' : usuarios_filtrados,\n",
    "        'proporcion_eventos': proporcion_eventos\n",
    "    }\n",
    "\n",
    "for evento, resultado in resultados.items():\n",
    "    print(f\"Evento: {evento}\")\n",
    "    print(\"Cantidad de usuarios que realizaron el evento en cada grupo de control:\\n\", resultado['usuarios_filtrados'])\n",
    "    print(\"Proporción de usuarios que realizaron el evento en cada grupo de control:\\n\", resultado['proporcion_eventos'])\n",
    "    print()   "
   ]
  },
  {
   "cell_type": "code",
   "execution_count": 40,
   "metadata": {},
   "outputs": [
    {
     "data": {
      "image/png": "[encoded data removed]",
      "text/plain": [
       "<Figure size 1200x800 with 1 Axes>"
      ]
     },
     "metadata": {},
     "output_type": "display_data"
    }
   ],
   "source": [
    "eventos = ['MainScreenAppear','OffersScreenAppear', 'CartScreenAppear', 'PaymentScreenSuccessful', 'Tutorial']\n",
    "\n",
    "resultados = {}\n",
    "\n",
    "for evento in eventos:\n",
    "    df_evento = data_filtrada[data_filtrada['nombre_del_evento'] == evento]\n",
    "    \n",
    "    usuarios_evento = df_evento.groupby('id_del_experimento')['id_usuario_unico'].nunique()\n",
    "    usuarios_filtrados = usuarios_evento[usuarios_evento.index.isin([246, 247])]\n",
    "\n",
    "    total_usuarios = data_filtrada.groupby('id_del_experimento')['id_usuario_unico'].nunique()\n",
    "    total_filtrado = total_usuarios[total_usuarios.index.isin([246,247])]\n",
    "\n",
    "    proporcion_eventos = usuarios_filtrados/total_filtrado\n",
    "\n",
    "    resultados[evento] = proporcion_eventos\n",
    "\n",
    "df_proporcion = pd.DataFrame(resultados).T\n",
    "df_proporcion.index.name = 'Evento'\n",
    "\n",
    "fig, ax = plt.subplots(figsize=(12, 8))\n",
    "df_proporcion.plot(kind='bar', ax=ax, width=0.8)\n",
    "\n",
    "ax.set_xlabel('Evento')\n",
    "ax.set_ylabel('Proporción de Usuarios')\n",
    "ax.set_title('Proporción de Usuarios que Realizaron Cada Evento en los Grupos de Control')\n",
    "plt.xticks(rotation=45)\n",
    "plt.ylim(0, 1)  \n",
    "plt.grid(axis='y')\n",
    "\n",
    "plt.tight_layout()\n",
    "plt.show()"
   ]
  },
  {
   "cell_type": "code",
   "execution_count": 41,
   "metadata": {},
   "outputs": [
    {
     "name": "stdout",
     "output_type": "stream",
     "text": [
      "Cantidad de usuarios que realizaron el evento 'MainScreenAppear' en cada grupo de prueba:\n",
      " id_del_experimento\n",
      "248    2495\n",
      "Name: id_usuario_unico, dtype: int64\n",
      "Proporción de usuarios que realizaron el evento 'MainScreenAppear' en el grupo de prueba:\n",
      " id_del_experimento\n",
      "248    0.983058\n",
      "Name: id_usuario_unico, dtype: float64\n"
     ]
    }
   ],
   "source": [
    "df_evento = data_filtrada[data_filtrada['nombre_del_evento'] == 'MainScreenAppear']\n",
    "\n",
    "usuarios_evento = df_evento.groupby('id_del_experimento')['id_usuario_unico'].nunique()\n",
    "usuarios_filtrado = usuarios_evento[usuarios_evento.index.isin([248])]\n",
    "\n",
    "total_usuarios = data_filtrada.groupby('id_del_experimento')['id_usuario_unico'].nunique()\n",
    "total_filtrado = total_usuarios[total_usuarios.index.isin([248])]\n",
    "\n",
    "proporcion_evento = usuarios_filtrado/total_filtrado\n",
    "\n",
    "print(\"Cantidad de usuarios que realizaron el evento 'MainScreenAppear' en cada grupo de prueba:\\n\", usuarios_filtrado)\n",
    "print(\"Proporción de usuarios que realizaron el evento 'MainScreenAppear' en el grupo de prueba:\\n\", proporcion_evento)"
   ]
  },
  {
   "cell_type": "code",
   "execution_count": 42,
   "metadata": {},
   "outputs": [
    {
     "name": "stdout",
     "output_type": "stream",
     "text": [
      "Evento: OffersScreenAppear\n",
      "Cantidad de usuarios que realizaron el evento en el grupo de prueba:\n",
      " id_del_experimento\n",
      "248    1532\n",
      "Name: id_usuario_unico, dtype: int64\n",
      "Proporción de usuarios que realizaron el evento en el grupo de prueba:\n",
      " id_del_experimento\n",
      "248    0.603625\n",
      "Name: id_usuario_unico, dtype: float64\n",
      "\n",
      "Evento: CartScreenAppear\n",
      "Cantidad de usuarios que realizaron el evento en el grupo de prueba:\n",
      " id_del_experimento\n",
      "248    1231\n",
      "Name: id_usuario_unico, dtype: int64\n",
      "Proporción de usuarios que realizaron el evento en el grupo de prueba:\n",
      " id_del_experimento\n",
      "248    0.485028\n",
      "Name: id_usuario_unico, dtype: float64\n",
      "\n",
      "Evento: PaymentScreenSuccessful\n",
      "Cantidad de usuarios que realizaron el evento en el grupo de prueba:\n",
      " id_del_experimento\n",
      "248    1182\n",
      "Name: id_usuario_unico, dtype: int64\n",
      "Proporción de usuarios que realizaron el evento en el grupo de prueba:\n",
      " id_del_experimento\n",
      "248    0.465721\n",
      "Name: id_usuario_unico, dtype: float64\n",
      "\n",
      "Evento: Tutorial\n",
      "Cantidad de usuarios que realizaron el evento en el grupo de prueba:\n",
      " id_del_experimento\n",
      "248    281\n",
      "Name: id_usuario_unico, dtype: int64\n",
      "Proporción de usuarios que realizaron el evento en el grupo de prueba:\n",
      " id_del_experimento\n",
      "248    0.110717\n",
      "Name: id_usuario_unico, dtype: float64\n",
      "\n"
     ]
    }
   ],
   "source": [
    "eventos = ['OffersScreenAppear', 'CartScreenAppear', 'PaymentScreenSuccessful', 'Tutorial']\n",
    "\n",
    "resultados = {}\n",
    "\n",
    "for evento in eventos:\n",
    "    df_evento = data_filtrada[data_filtrada['nombre_del_evento'] == evento]\n",
    "    \n",
    "    usuarios_evento = df_evento.groupby('id_del_experimento')['id_usuario_unico'].nunique()\n",
    "    usuarios_filtrados = usuarios_evento[usuarios_evento.index.isin([248])]\n",
    "\n",
    "    total_usuarios = data_filtrada.groupby('id_del_experimento')['id_usuario_unico'].nunique()\n",
    "    total_filtrado = total_usuarios[total_usuarios.index.isin([248])]\n",
    "\n",
    "    proporcion_eventos = usuarios_filtrados/total_filtrado\n",
    "\n",
    "    resultados[evento] = {\n",
    "        'usuarios_filtrados' : usuarios_filtrados,\n",
    "        'proporcion_eventos': proporcion_eventos\n",
    "    }\n",
    "\n",
    "for evento, resultado in resultados.items():\n",
    "    print(f\"Evento: {evento}\")\n",
    "    print(\"Cantidad de usuarios que realizaron el evento en el grupo de prueba:\\n\", resultado['usuarios_filtrados'])\n",
    "    print(\"Proporción de usuarios que realizaron el evento en el grupo de prueba:\\n\", resultado['proporcion_eventos'])\n",
    "    print()"
   ]
  },
  {
   "cell_type": "code",
   "execution_count": 43,
   "metadata": {},
   "outputs": [
    {
     "data": {
      "image/png": "[encoded data removed]",
      "text/plain": [
       "<Figure size 1200x800 with 1 Axes>"
      ]
     },
     "metadata": {},
     "output_type": "display_data"
    }
   ],
   "source": [
    "eventos = ['MainScreenAppear','OffersScreenAppear', 'CartScreenAppear', 'PaymentScreenSuccessful', 'Tutorial']\n",
    "# diccionario para almacenar los resultados\n",
    "resultados = {}\n",
    "# Itera sobre cada evento\n",
    "for evento in eventos:\n",
    "    # Filtra el dataframe para obtener solo el evento actual\n",
    "    df_evento = data_filtrada[data_filtrada['nombre_del_evento'] == evento]\n",
    "    \n",
    "    # Cuenta la cantidad de usuarios únicos en cada grupo de control que realizaron este evento\n",
    "    usuarios_evento = df_evento.groupby('id_del_experimento')['id_usuario_unico'].nunique()\n",
    "    usuarios_filtrados = usuarios_evento[usuarios_evento.index.isin([248])]\n",
    "\n",
    "    # Cuenta el total de usuarios únicos en cada grupo de control\n",
    "    total_usuarios = data_filtrada.groupby('id_del_experimento')['id_usuario_unico'].nunique()\n",
    "    total_filtrado = total_usuarios[total_usuarios.index.isin([248])]\n",
    "\n",
    "    # Calcula la proporción de usuarios que realizaron el evento\n",
    "    proporcion_eventos = usuarios_filtrados/total_filtrado\n",
    "\n",
    "    #Almacena los resultados en el diccionario\n",
    "    resultados[evento] = proporcion_eventos\n",
    "\n",
    "# Convertir el diccionario a un DataFrame para graficar\n",
    "df_proporcion = pd.DataFrame(resultados).T\n",
    "df_proporcion.index.name = 'Evento'\n",
    "\n",
    "# Graficar la proporción de usuarios\n",
    "fig, ax = plt.subplots(figsize=(12, 8))\n",
    "df_proporcion.plot(kind='bar', ax=ax, width=0.8)\n",
    "\n",
    "# Configuración del gráfico\n",
    "ax.set_xlabel('Evento')\n",
    "ax.set_ylabel('Proporción de Usuarios')\n",
    "ax.set_title('Proporción de Usuarios que Realizaron Cada Evento en los Grupo de Prueba')\n",
    "plt.xticks(rotation=45)\n",
    "plt.ylim(0, 1)  \n",
    "plt.grid(axis='y')\n",
    "\n",
    "plt.tight_layout()\n",
    "plt.show()"
   ]
  },
  {
   "cell_type": "code",
   "execution_count": 44,
   "metadata": {},
   "outputs": [
    {
     "name": "stdout",
     "output_type": "stream",
     "text": [
      "Nombre del evento MainScreenAppear\n",
      "Conteo únicos en el grupo de control 246: 2450\n",
      "Conteo únicos en el grupo de control 247: 2479\n",
      "Conteo únicos en el grupo de prueba 248: 2495\n",
      "Comparación entre grupo de prueba 248 y grupo de control 246: t-statistic = -0.13233294531630252, p-value = 0.8947263361291913\n",
      "Comparación entre grupo de prueba 248 y grupo de control 247: t-statistic = 0.14632684994200312, p-value = 0.8836693029550431\n"
     ]
    }
   ],
   "source": [
    "df_evento = data_filtrada[data_filtrada['nombre_del_evento'] == 'MainScreenAppear']\n",
    "\n",
    "usuarios_evento = df_evento.groupby('id_del_experimento')['id_usuario_unico'].nunique()\n",
    "\n",
    "# Extraer datos para cada grupo\n",
    "grupo_control_246 = usuarios_evento.get(246, 0)\n",
    "grupo_control_247 = usuarios_evento.get(247, 0)\n",
    "grupo_prueba_248 = usuarios_evento.get(248, 0)\n",
    "\n",
    "print('Nombre del evento MainScreenAppear')\n",
    "\n",
    "print(f\"Conteo únicos en el grupo de control 246: {grupo_control_246}\")\n",
    "print(f\"Conteo únicos en el grupo de control 247: {grupo_control_247}\")\n",
    "print(f\"Conteo únicos en el grupo de prueba 248: {grupo_prueba_248}\")\n",
    "\n",
    "grupo_control_246 = df_evento[df_evento['id_del_experimento'] == 246]['id_usuario_unico'].unique()\n",
    "grupo_control_247 = df_evento[df_evento['id_del_experimento'] == 247]['id_usuario_unico'].unique()\n",
    "grupo_prueba_248 = df_evento[df_evento['id_del_experimento'] == 248]['id_usuario_unico'].unique()\n",
    "\n",
    "# Realizar pruebas t independientes entre el grupo de prueba y los grupos de control\n",
    "t_stat_246, p_val_246 = stats.ttest_ind(grupo_prueba_248, grupo_control_246)\n",
    "t_stat_247, p_val_247 = stats.ttest_ind(grupo_prueba_248, grupo_control_247)\n",
    "\n",
    "print(f\"Comparación entre grupo de prueba 248 y grupo de control 246: t-statistic = {t_stat_246}, p-value = {p_val_246}\")\n",
    "print(f\"Comparación entre grupo de prueba 248 y grupo de control 247: t-statistic = {t_stat_247}, p-value = {p_val_247}\")"
   ]
  },
  {
   "cell_type": "code",
   "execution_count": 45,
   "metadata": {},
   "outputs": [
    {
     "name": "stdout",
     "output_type": "stream",
     "text": [
      "Nombre del evento OffersScreenAppear\n",
      "Conteo únicos en el grupo de control 246: 1542\n",
      "Conteo únicos en el grupo de control 247: 1525\n",
      "Conteo únicos en el grupo de prueba 248: 1532\n",
      "Comparación entre grupo de prueba 248 y grupo de control 246: t-statistic = -0.5255840073090677, p-value = 0.5992152046293437\n",
      "Comparación entre grupo de prueba 248 y grupo de control 247: t-statistic = 0.4887775768852076, p-value = 0.6250342593453764\n"
     ]
    }
   ],
   "source": [
    "df_evento = data_filtrada[data_filtrada['nombre_del_evento'] == 'OffersScreenAppear']\n",
    "\n",
    "usuarios_evento = df_evento.groupby('id_del_experimento')['id_usuario_unico'].nunique()\n",
    "\n",
    "# Extraer datos para cada grupo\n",
    "grupo_control_246 = usuarios_evento.get(246, 0)\n",
    "grupo_control_247 = usuarios_evento.get(247, 0)\n",
    "grupo_prueba_248 = usuarios_evento.get(248, 0)\n",
    "\n",
    "print('Nombre del evento OffersScreenAppear')\n",
    "\n",
    "print(f\"Conteo únicos en el grupo de control 246: {grupo_control_246}\")\n",
    "print(f\"Conteo únicos en el grupo de control 247: {grupo_control_247}\")\n",
    "print(f\"Conteo únicos en el grupo de prueba 248: {grupo_prueba_248}\")\n",
    "\n",
    "grupo_control_246 = df_evento[df_evento['id_del_experimento'] == 246]['id_usuario_unico'].unique()\n",
    "grupo_control_247 = df_evento[df_evento['id_del_experimento'] == 247]['id_usuario_unico'].unique()\n",
    "grupo_prueba_248 = df_evento[df_evento['id_del_experimento'] == 248]['id_usuario_unico'].unique()\n",
    "\n",
    "# Realizar pruebas t independientes entre el grupo de prueba y los grupos de control\n",
    "t_stat_246, p_val_246 = stats.ttest_ind(grupo_prueba_248, grupo_control_246)\n",
    "t_stat_247, p_val_247 = stats.ttest_ind(grupo_prueba_248, grupo_control_247)\n",
    "\n",
    "print(f\"Comparación entre grupo de prueba 248 y grupo de control 246: t-statistic = {t_stat_246}, p-value = {p_val_246}\")\n",
    "print(f\"Comparación entre grupo de prueba 248 y grupo de control 247: t-statistic = {t_stat_247}, p-value = {p_val_247}\")"
   ]
  },
  {
   "cell_type": "code",
   "execution_count": 46,
   "metadata": {},
   "outputs": [
    {
     "name": "stdout",
     "output_type": "stream",
     "text": [
      "Nombre del evento CartScreenAppear\n",
      "Conteo únicos en el grupo de control 246: 1266\n",
      "Conteo únicos en el grupo de control 247: 1239\n",
      "Conteo únicos en el grupo de prueba 248: 1231\n",
      "Comparación entre grupo de prueba 248 y grupo de control 246: t-statistic = 0.4946603401112145, p-value = 0.6208834541658795\n",
      "Comparación entre grupo de prueba 248 y grupo de control 247: t-statistic = 0.6941230111967853, p-value = 0.48767039792706\n"
     ]
    }
   ],
   "source": [
    "df_evento = data_filtrada[data_filtrada['nombre_del_evento'] == 'CartScreenAppear']\n",
    "\n",
    "usuarios_evento = df_evento.groupby('id_del_experimento')['id_usuario_unico'].nunique()\n",
    "\n",
    "# Extraer datos para cada grupo\n",
    "grupo_control_246 = usuarios_evento.get(246, 0)\n",
    "grupo_control_247 = usuarios_evento.get(247, 0)\n",
    "grupo_prueba_248 = usuarios_evento.get(248, 0)\n",
    "\n",
    "print('Nombre del evento CartScreenAppear')\n",
    "\n",
    "print(f\"Conteo únicos en el grupo de control 246: {grupo_control_246}\")\n",
    "print(f\"Conteo únicos en el grupo de control 247: {grupo_control_247}\")\n",
    "print(f\"Conteo únicos en el grupo de prueba 248: {grupo_prueba_248}\")\n",
    "\n",
    "grupo_control_246 = df_evento[df_evento['id_del_experimento'] == 246]['id_usuario_unico'].unique()\n",
    "grupo_control_247 = df_evento[df_evento['id_del_experimento'] == 247]['id_usuario_unico'].unique()\n",
    "grupo_prueba_248 = df_evento[df_evento['id_del_experimento'] == 248]['id_usuario_unico'].unique()\n",
    "\n",
    "# Realizar pruebas t independientes entre el grupo de prueba y los grupos de control\n",
    "t_stat_246, p_val_246 = stats.ttest_ind(grupo_prueba_248, grupo_control_246)\n",
    "t_stat_247, p_val_247 = stats.ttest_ind(grupo_prueba_248, grupo_control_247)\n",
    "\n",
    "print(f\"Comparación entre grupo de prueba 248 y grupo de control 246: t-statistic = {t_stat_246}, p-value = {p_val_246}\")\n",
    "print(f\"Comparación entre grupo de prueba 248 y grupo de control 247: t-statistic = {t_stat_247}, p-value = {p_val_247}\")"
   ]
  },
  {
   "cell_type": "code",
   "execution_count": 47,
   "metadata": {},
   "outputs": [
    {
     "name": "stdout",
     "output_type": "stream",
     "text": [
      "Nombre del evento PaymentScreenSuccessful\n",
      "Conteo únicos en el grupo de control 246: 1200\n",
      "Conteo únicos en el grupo de control 247: 1158\n",
      "Conteo únicos en el grupo de prueba 248: 1182\n",
      "Comparación entre grupo de prueba 248 y grupo de control 246: t-statistic = 0.0639993706247359, p-value = 0.9489761024959684\n",
      "Comparación entre grupo de prueba 248 y grupo de control 247: t-statistic = 0.6041719367654523, p-value = 0.5457879558751282\n"
     ]
    }
   ],
   "source": [
    "df_evento = data_filtrada[data_filtrada['nombre_del_evento'] == 'PaymentScreenSuccessful']\n",
    "\n",
    "usuarios_evento = df_evento.groupby('id_del_experimento')['id_usuario_unico'].nunique()\n",
    "\n",
    "# Extraer datos para cada grupo\n",
    "grupo_control_246 = usuarios_evento.get(246, 0)\n",
    "grupo_control_247 = usuarios_evento.get(247, 0)\n",
    "grupo_prueba_248 = usuarios_evento.get(248, 0)\n",
    "\n",
    "print('Nombre del evento PaymentScreenSuccessful')\n",
    "\n",
    "print(f\"Conteo únicos en el grupo de control 246: {grupo_control_246}\")\n",
    "print(f\"Conteo únicos en el grupo de control 247: {grupo_control_247}\")\n",
    "print(f\"Conteo únicos en el grupo de prueba 248: {grupo_prueba_248}\")\n",
    "\n",
    "grupo_control_246 = df_evento[df_evento['id_del_experimento'] == 246]['id_usuario_unico'].unique()\n",
    "grupo_control_247 = df_evento[df_evento['id_del_experimento'] == 247]['id_usuario_unico'].unique()\n",
    "grupo_prueba_248 = df_evento[df_evento['id_del_experimento'] == 248]['id_usuario_unico'].unique()\n",
    "\n",
    "# Realizar pruebas t independientes entre el grupo de prueba y los grupos de control\n",
    "t_stat_246, p_val_246 = stats.ttest_ind(grupo_prueba_248, grupo_control_246)\n",
    "t_stat_247, p_val_247 = stats.ttest_ind(grupo_prueba_248, grupo_control_247)\n",
    "\n",
    "print(f\"Comparación entre grupo de prueba 248 y grupo de control 246: t-statistic = {t_stat_246}, p-value = {p_val_246}\")\n",
    "print(f\"Comparación entre grupo de prueba 248 y grupo de control 247: t-statistic = {t_stat_247}, p-value = {p_val_247}\")"
   ]
  },
  {
   "cell_type": "code",
   "execution_count": 48,
   "metadata": {},
   "outputs": [
    {
     "name": "stdout",
     "output_type": "stream",
     "text": [
      "Nombre del evento Tutorial\n",
      "Conteo únicos en el grupo de control 246: 278\n",
      "Conteo únicos en el grupo de control 247: 284\n",
      "Conteo únicos en el grupo de prueba 248: 281\n",
      "Comparación entre grupo de prueba 248 y grupo de control 246: t-statistic = 0.8834628726579986, p-value = 0.37736738216802834\n",
      "Comparación entre grupo de prueba 248 y grupo de control 247: t-statistic = 0.08501174751406539, p-value = 0.9322822725428401\n"
     ]
    }
   ],
   "source": [
    "df_evento = data_filtrada[data_filtrada['nombre_del_evento'] == 'Tutorial']\n",
    "\n",
    "usuarios_evento = df_evento.groupby('id_del_experimento')['id_usuario_unico'].nunique()\n",
    "\n",
    "# Extraer datos para cada grupo\n",
    "grupo_control_246 = usuarios_evento.get(246, 0)\n",
    "grupo_control_247 = usuarios_evento.get(247, 0)\n",
    "grupo_prueba_248 = usuarios_evento.get(248, 0)\n",
    "\n",
    "print('Nombre del evento Tutorial')\n",
    "\n",
    "print(f\"Conteo únicos en el grupo de control 246: {grupo_control_246}\")\n",
    "print(f\"Conteo únicos en el grupo de control 247: {grupo_control_247}\")\n",
    "print(f\"Conteo únicos en el grupo de prueba 248: {grupo_prueba_248}\")\n",
    "\n",
    "grupo_control_246 = df_evento[df_evento['id_del_experimento'] == 246]['id_usuario_unico'].unique()\n",
    "grupo_control_247 = df_evento[df_evento['id_del_experimento'] == 247]['id_usuario_unico'].unique()\n",
    "grupo_prueba_248 = df_evento[df_evento['id_del_experimento'] == 248]['id_usuario_unico'].unique()\n",
    "\n",
    "# Realizar pruebas t independientes entre el grupo de prueba y los grupos de control\n",
    "t_stat_246, p_val_246 = stats.ttest_ind(grupo_prueba_248, grupo_control_246)\n",
    "t_stat_247, p_val_247 = stats.ttest_ind(grupo_prueba_248, grupo_control_247)\n",
    "\n",
    "print(f\"Comparación entre grupo de prueba 248 y grupo de control 246: t-statistic = {t_stat_246}, p-value = {p_val_246}\")\n",
    "print(f\"Comparación entre grupo de prueba 248 y grupo de control 247: t-statistic = {t_stat_247}, p-value = {p_val_247}\")"
   ]
  },
  {
   "cell_type": "code",
   "execution_count": 49,
   "metadata": {},
   "outputs": [
    {
     "name": "stdout",
     "output_type": "stream",
     "text": [
      "Conteo únicos en el grupo de prueba 248: 281\n",
      "Conteo únicos combinados en los grupos de control 246 y 247: 562\n",
      "Comparación entre grupo de prueba 248 y grupo combinado de control: t-statistic = 0.560285018833267, p-value = 0.575434258545572\n"
     ]
    }
   ],
   "source": [
    "usuarios_evento = df_evento.groupby('id_del_experimento')['id_usuario_unico'].nunique()\n",
    "\n",
    "# Extraer datos para cada grupo\n",
    "grupo_control_246 = df_evento[df_evento['id_del_experimento'] == 246]['id_usuario_unico'].unique()\n",
    "grupo_control_247 = df_evento[df_evento['id_del_experimento'] == 247]['id_usuario_unico'].unique()\n",
    "grupo_prueba_248 = df_evento[df_evento['id_del_experimento'] == 248]['id_usuario_unico'].unique()\n",
    "\n",
    "# Combinar los grupos de control\n",
    "grupo_control_combined = pd.concat([\n",
    "    pd.Series(grupo_control_246),\n",
    "    pd.Series(grupo_control_247)\n",
    "]).unique()\n",
    "\n",
    "# Convertimos las listas de usuarios únicos en conteos\n",
    "conteo_prueba_248 = len(grupo_prueba_248)\n",
    "conteo_control_combined = len(grupo_control_combined)\n",
    "\n",
    "t_stat, p_val = stats.ttest_ind(grupo_prueba_248, grupo_control_combined)\n",
    "\n",
    "# En este caso, vamos a comparar simplemente los conteos de usuarios únicos\n",
    "print(f\"Conteo únicos en el grupo de prueba 248: {conteo_prueba_248}\")\n",
    "print(f\"Conteo únicos combinados en los grupos de control 246 y 247: {conteo_control_combined}\")\n",
    "\n",
    "print(f\"Comparación entre grupo de prueba 248 y grupo combinado de control: t-statistic = {t_stat}, p-value = {p_val}\")"
   ]
  },
  {
   "cell_type": "markdown",
   "metadata": {},
   "source": [
    "Resultados\n",
    "Conteo únicos en el grupo de prueba 248: 281\n",
    "Conteo únicos combinados en los grupos de control 246 y 247: 562\n",
    "Prueba t:\n",
    "t-statistic: 0.560\n",
    "p-value: 0.575\n",
    "\n",
    "Interpretación\n",
    "Conteos Únicos:\n",
    "El grupo de prueba 248 tiene 281 usuarios únicos.\n",
    "Los grupos de control combinados (246 y 247) tienen un total de 562 usuarios únicos.\n",
    "Prueba t:\n",
    "\n",
    "La t-statistic de 0.560 indica la diferencia entre las medias de los dos grupos en unidades de desviación estándar. Un valor cercano a 0 sugiere que las medias de los dos grupos son bastante similares.\n",
    "El p-value de 0.575 es alto, lo que significa que no hay suficiente evidencia para rechazar la hipótesis nula. En otras palabras, no se observa una diferencia estadísticamente significativa entre el grupo de prueba 248 y el grupo combinado de control.\n",
    "\n",
    "¿Qué significa esto?\n",
    "p-value: El valor p es una medida de la probabilidad de obtener resultados tan extremos como los observados, dado que la hipótesis nula es cierta. \n",
    "\n",
    "En general:\n",
    "Un p-value menor a 0.05 (o el nivel de significancia que hayas establecido) sugiere que la diferencia entre los grupos es estadísticamente significativa.\n",
    "\n",
    "Un p-value mayor a 0.05 indica que no hay evidencia suficiente para afirmar que hay una diferencia significativa entre los grupos.\n",
    "\n",
    "En nuestro caso, con un p-value de 0.575, no se puede concluir que haya una diferencia significativa entre el número de usuarios únicos en el grupo de prueba 248 y el grupo combinado de control. Esto sugiere que, basándonos en los datos y la prueba realizada, el grupo de prueba 248 no difiere significativamente del grupo de control combinado en términos de usuarios únicos."
   ]
  },
  {
   "cell_type": "markdown",
   "metadata": {},
   "source": [
    "En vista que no hay una diferencia estadsticamente significativa en los grupos analizados podemos concluir que no es necesartio realizar ningún cambio en nuestras páginas que capturan los datos de los clientes y que los grupos de control analizados al no tener diferencias con respecto al grupo de prueba, las fuentes utilizadas mantienen la misma eficiencia que si realizaramos algún cambio.   "
   ]
  }
 ],
 "metadata": {
  "ExecuteTimeLog": [
   {
    "duration": 5523,
    "start_time": "2024-08-05T22:01:12.708Z"
   },
   {
    "duration": 430,
    "start_time": "2024-08-05T22:02:38.519Z"
   },
   {
    "duration": 19,
    "start_time": "2024-08-05T22:02:51.586Z"
   },
   {
    "duration": 5,
    "start_time": "2024-08-05T22:03:56.041Z"
   },
   {
    "duration": 317,
    "start_time": "2024-08-05T22:04:07.390Z"
   },
   {
    "duration": 13,
    "start_time": "2024-08-05T22:04:10.156Z"
   },
   {
    "duration": 12,
    "start_time": "2024-08-05T22:05:00.513Z"
   },
   {
    "duration": 12,
    "start_time": "2024-08-05T22:05:02.134Z"
   },
   {
    "duration": 4,
    "start_time": "2024-08-05T22:05:57.893Z"
   },
   {
    "duration": 6,
    "start_time": "2024-08-05T22:05:59.247Z"
   },
   {
    "duration": 13,
    "start_time": "2024-08-05T22:06:00.366Z"
   },
   {
    "duration": 392,
    "start_time": "2024-08-05T22:09:05.598Z"
   },
   {
    "duration": 17,
    "start_time": "2024-08-05T22:09:08.597Z"
   },
   {
    "duration": 12,
    "start_time": "2024-08-05T22:09:32.305Z"
   },
   {
    "duration": 192,
    "start_time": "2024-08-05T22:10:12.024Z"
   },
   {
    "duration": 14,
    "start_time": "2024-08-05T22:10:12.665Z"
   },
   {
    "duration": 26,
    "start_time": "2024-08-05T22:10:42.415Z"
   },
   {
    "duration": 82,
    "start_time": "2024-08-05T22:12:35.522Z"
   },
   {
    "duration": 10,
    "start_time": "2024-08-05T22:13:55.415Z"
   },
   {
    "duration": 7,
    "start_time": "2024-08-05T22:19:54.873Z"
   },
   {
    "duration": 15,
    "start_time": "2024-08-05T22:20:19.450Z"
   },
   {
    "duration": 433,
    "start_time": "2024-08-05T22:20:38.058Z"
   },
   {
    "duration": 12,
    "start_time": "2024-08-05T22:21:14.532Z"
   },
   {
    "duration": 11,
    "start_time": "2024-08-05T22:21:23.549Z"
   },
   {
    "duration": 16,
    "start_time": "2024-08-05T22:21:38.293Z"
   },
   {
    "duration": 14,
    "start_time": "2024-08-05T22:21:46.619Z"
   },
   {
    "duration": 14,
    "start_time": "2024-08-05T22:22:00.030Z"
   },
   {
    "duration": 47,
    "start_time": "2024-08-05T22:24:08.413Z"
   },
   {
    "duration": 57,
    "start_time": "2024-08-05T22:24:19.907Z"
   },
   {
    "duration": 115,
    "start_time": "2024-08-05T22:24:30.917Z"
   },
   {
    "duration": 16,
    "start_time": "2024-08-05T22:27:02.664Z"
   },
   {
    "duration": 96,
    "start_time": "2024-08-05T22:27:03.606Z"
   },
   {
    "duration": 984,
    "start_time": "2024-08-05T22:28:27.482Z"
   },
   {
    "duration": 267,
    "start_time": "2024-08-05T22:28:57.772Z"
   },
   {
    "duration": 7,
    "start_time": "2024-08-05T22:29:30.178Z"
   },
   {
    "duration": 565,
    "start_time": "2024-08-05T22:29:40.594Z"
   },
   {
    "duration": 344,
    "start_time": "2024-08-05T22:29:54.486Z"
   },
   {
    "duration": 328,
    "start_time": "2024-08-05T22:30:32.797Z"
   },
   {
    "duration": 13,
    "start_time": "2024-08-05T22:30:48.023Z"
   },
   {
    "duration": 1522,
    "start_time": "2024-08-05T22:31:12.091Z"
   },
   {
    "duration": 230,
    "start_time": "2024-08-05T22:31:13.617Z"
   },
   {
    "duration": 27,
    "start_time": "2024-08-05T22:31:13.851Z"
   },
   {
    "duration": 28,
    "start_time": "2024-08-05T22:31:13.883Z"
   },
   {
    "duration": 23,
    "start_time": "2024-08-05T22:31:13.914Z"
   },
   {
    "duration": 84,
    "start_time": "2024-08-05T22:31:13.942Z"
   },
   {
    "duration": 282,
    "start_time": "2024-08-05T22:31:14.028Z"
   },
   {
    "duration": 16,
    "start_time": "2024-08-05T22:31:14.313Z"
   },
   {
    "duration": 189,
    "start_time": "2024-08-05T22:31:14.332Z"
   },
   {
    "duration": 46,
    "start_time": "2024-08-05T22:31:32.741Z"
   },
   {
    "duration": 1789,
    "start_time": "2024-08-05T22:35:03.887Z"
   },
   {
    "duration": 497,
    "start_time": "2024-08-05T22:35:26.422Z"
   },
   {
    "duration": 380,
    "start_time": "2024-08-05T22:38:50.777Z"
   },
   {
    "duration": 390,
    "start_time": "2024-08-05T22:39:04.331Z"
   },
   {
    "duration": 287,
    "start_time": "2024-08-05T22:40:17.183Z"
   },
   {
    "duration": 1457,
    "start_time": "2024-08-05T22:40:29.510Z"
   },
   {
    "duration": 215,
    "start_time": "2024-08-05T22:40:30.971Z"
   },
   {
    "duration": 35,
    "start_time": "2024-08-05T22:40:31.189Z"
   },
   {
    "duration": 17,
    "start_time": "2024-08-05T22:40:31.229Z"
   },
   {
    "duration": 53,
    "start_time": "2024-08-05T22:40:31.250Z"
   },
   {
    "duration": 58,
    "start_time": "2024-08-05T22:40:31.308Z"
   },
   {
    "duration": 1627,
    "start_time": "2024-08-05T22:40:31.390Z"
   },
   {
    "duration": 0,
    "start_time": "2024-08-05T22:40:33.022Z"
   },
   {
    "duration": 0,
    "start_time": "2024-08-05T22:40:33.024Z"
   },
   {
    "duration": 0,
    "start_time": "2024-08-05T22:40:33.026Z"
   },
   {
    "duration": 230,
    "start_time": "2024-08-05T22:40:59.400Z"
   },
   {
    "duration": 329,
    "start_time": "2024-08-05T22:41:32.040Z"
   },
   {
    "duration": 137,
    "start_time": "2024-08-05T22:42:18.777Z"
   },
   {
    "duration": 15,
    "start_time": "2024-08-05T22:44:01.265Z"
   },
   {
    "duration": 101,
    "start_time": "2024-08-05T22:44:03.203Z"
   },
   {
    "duration": 20,
    "start_time": "2024-08-05T22:49:31.436Z"
   },
   {
    "duration": 23,
    "start_time": "2024-08-05T22:49:36.178Z"
   },
   {
    "duration": 1263,
    "start_time": "2024-08-05T22:49:48.397Z"
   },
   {
    "duration": 186,
    "start_time": "2024-08-05T22:49:49.664Z"
   },
   {
    "duration": 24,
    "start_time": "2024-08-05T22:49:49.853Z"
   },
   {
    "duration": 20,
    "start_time": "2024-08-05T22:49:49.892Z"
   },
   {
    "duration": 17,
    "start_time": "2024-08-05T22:49:49.916Z"
   },
   {
    "duration": 1360,
    "start_time": "2024-08-05T22:49:49.939Z"
   },
   {
    "duration": 0,
    "start_time": "2024-08-05T22:49:51.302Z"
   },
   {
    "duration": 0,
    "start_time": "2024-08-05T22:49:51.304Z"
   },
   {
    "duration": 0,
    "start_time": "2024-08-05T22:49:51.305Z"
   },
   {
    "duration": 0,
    "start_time": "2024-08-05T22:49:51.308Z"
   },
   {
    "duration": 50,
    "start_time": "2024-08-05T22:50:17.722Z"
   },
   {
    "duration": 263,
    "start_time": "2024-08-05T22:50:19.753Z"
   },
   {
    "duration": 254,
    "start_time": "2024-08-05T22:50:50.759Z"
   },
   {
    "duration": 265,
    "start_time": "2024-08-05T22:51:02.392Z"
   },
   {
    "duration": 106,
    "start_time": "2024-08-05T22:51:33.563Z"
   },
   {
    "duration": 99,
    "start_time": "2024-08-05T22:51:45.780Z"
   },
   {
    "duration": 4,
    "start_time": "2024-08-05T22:52:04.444Z"
   },
   {
    "duration": 174,
    "start_time": "2024-08-05T22:52:05.102Z"
   },
   {
    "duration": 25,
    "start_time": "2024-08-05T22:52:05.644Z"
   },
   {
    "duration": 10,
    "start_time": "2024-08-05T22:52:06.647Z"
   },
   {
    "duration": 14,
    "start_time": "2024-08-05T22:52:07.551Z"
   },
   {
    "duration": 44,
    "start_time": "2024-08-05T22:52:08.307Z"
   },
   {
    "duration": 100,
    "start_time": "2024-08-05T22:52:09.090Z"
   },
   {
    "duration": 35,
    "start_time": "2024-08-05T22:52:31.337Z"
   },
   {
    "duration": 152,
    "start_time": "2024-08-05T22:55:00.892Z"
   },
   {
    "duration": 27,
    "start_time": "2024-08-05T22:55:03.939Z"
   },
   {
    "duration": 136,
    "start_time": "2024-08-05T22:55:21.009Z"
   },
   {
    "duration": 91,
    "start_time": "2024-08-05T22:55:29.953Z"
   },
   {
    "duration": 24,
    "start_time": "2024-08-05T22:56:05.481Z"
   },
   {
    "duration": 6,
    "start_time": "2024-08-05T22:56:20.171Z"
   },
   {
    "duration": 203,
    "start_time": "2024-08-05T22:56:20.892Z"
   },
   {
    "duration": 34,
    "start_time": "2024-08-05T22:56:22.217Z"
   },
   {
    "duration": 11,
    "start_time": "2024-08-05T22:56:24.713Z"
   },
   {
    "duration": 15,
    "start_time": "2024-08-05T22:56:26.658Z"
   },
   {
    "duration": 46,
    "start_time": "2024-08-05T22:56:28.644Z"
   },
   {
    "duration": 155,
    "start_time": "2024-08-05T22:56:30.186Z"
   },
   {
    "duration": 111,
    "start_time": "2024-08-05T22:56:57.217Z"
   },
   {
    "duration": 29,
    "start_time": "2024-08-05T23:03:51.077Z"
   },
   {
    "duration": 12,
    "start_time": "2024-08-05T23:04:43.963Z"
   },
   {
    "duration": 26,
    "start_time": "2024-08-05T23:06:43.159Z"
   },
   {
    "duration": 29,
    "start_time": "2024-08-05T23:07:02.617Z"
   },
   {
    "duration": 4,
    "start_time": "2024-08-05T23:07:09.844Z"
   },
   {
    "duration": 5,
    "start_time": "2024-08-05T23:07:45.809Z"
   },
   {
    "duration": 11,
    "start_time": "2024-08-05T23:09:35.898Z"
   },
   {
    "duration": 1335,
    "start_time": "2024-08-05T23:09:57.377Z"
   },
   {
    "duration": 242,
    "start_time": "2024-08-05T23:09:58.715Z"
   },
   {
    "duration": 38,
    "start_time": "2024-08-05T23:09:58.961Z"
   },
   {
    "duration": 17,
    "start_time": "2024-08-05T23:09:59.004Z"
   },
   {
    "duration": 18,
    "start_time": "2024-08-05T23:09:59.025Z"
   },
   {
    "duration": 101,
    "start_time": "2024-08-05T23:09:59.046Z"
   },
   {
    "duration": 210,
    "start_time": "2024-08-05T23:09:59.151Z"
   },
   {
    "duration": 131,
    "start_time": "2024-08-05T23:09:59.365Z"
   },
   {
    "duration": 30,
    "start_time": "2024-08-05T23:09:59.499Z"
   },
   {
    "duration": 7,
    "start_time": "2024-08-05T23:09:59.533Z"
   },
   {
    "duration": 48,
    "start_time": "2024-08-05T23:09:59.543Z"
   },
   {
    "duration": 311,
    "start_time": "2024-08-06T00:11:53.374Z"
   },
   {
    "duration": 4896,
    "start_time": "2024-08-06T00:12:03.214Z"
   },
   {
    "duration": 239,
    "start_time": "2024-08-06T00:12:08.115Z"
   },
   {
    "duration": 25,
    "start_time": "2024-08-06T00:12:08.357Z"
   },
   {
    "duration": 17,
    "start_time": "2024-08-06T00:12:08.406Z"
   },
   {
    "duration": 14,
    "start_time": "2024-08-06T00:12:08.426Z"
   },
   {
    "duration": 70,
    "start_time": "2024-08-06T00:12:08.446Z"
   },
   {
    "duration": 157,
    "start_time": "2024-08-06T00:12:08.520Z"
   },
   {
    "duration": 106,
    "start_time": "2024-08-06T00:12:08.680Z"
   },
   {
    "duration": 41,
    "start_time": "2024-08-06T00:12:08.789Z"
   },
   {
    "duration": 6,
    "start_time": "2024-08-06T00:12:08.834Z"
   },
   {
    "duration": 9,
    "start_time": "2024-08-06T00:12:08.843Z"
   },
   {
    "duration": 869,
    "start_time": "2024-08-06T00:12:08.855Z"
   },
   {
    "duration": 14,
    "start_time": "2024-08-06T00:12:33.733Z"
   },
   {
    "duration": 11,
    "start_time": "2024-08-06T00:13:04.237Z"
   },
   {
    "duration": 12,
    "start_time": "2024-08-06T00:13:23.105Z"
   },
   {
    "duration": 14,
    "start_time": "2024-08-06T00:14:03.588Z"
   },
   {
    "duration": 13,
    "start_time": "2024-08-06T00:14:09.349Z"
   },
   {
    "duration": 13,
    "start_time": "2024-08-06T00:14:21.399Z"
   },
   {
    "duration": 7,
    "start_time": "2024-08-06T00:15:38.441Z"
   },
   {
    "duration": 1492,
    "start_time": "2024-08-06T00:18:37.334Z"
   },
   {
    "duration": 1327,
    "start_time": "2024-08-06T00:19:32.212Z"
   },
   {
    "duration": 148,
    "start_time": "2024-08-06T00:22:35.981Z"
   },
   {
    "duration": 148,
    "start_time": "2024-08-06T00:22:47.998Z"
   },
   {
    "duration": 20,
    "start_time": "2024-08-06T00:27:46.693Z"
   },
   {
    "duration": 25,
    "start_time": "2024-08-06T00:28:16.753Z"
   },
   {
    "duration": 1437,
    "start_time": "2024-08-06T00:29:14.320Z"
   },
   {
    "duration": 477,
    "start_time": "2024-08-06T00:30:37.614Z"
   },
   {
    "duration": 9,
    "start_time": "2024-08-06T00:31:26.442Z"
   },
   {
    "duration": 9,
    "start_time": "2024-08-06T00:32:20.223Z"
   },
   {
    "duration": 6,
    "start_time": "2024-08-06T00:33:10.775Z"
   },
   {
    "duration": 18,
    "start_time": "2024-08-06T00:35:24.663Z"
   },
   {
    "duration": 22,
    "start_time": "2024-08-06T00:36:14.548Z"
   },
   {
    "duration": 80,
    "start_time": "2024-08-06T00:37:47.223Z"
   },
   {
    "duration": 13,
    "start_time": "2024-08-06T00:38:10.082Z"
   },
   {
    "duration": 9,
    "start_time": "2024-08-06T00:38:34.097Z"
   },
   {
    "duration": 6,
    "start_time": "2024-08-06T00:39:57.043Z"
   },
   {
    "duration": 38,
    "start_time": "2024-08-06T00:41:05.444Z"
   },
   {
    "duration": 1282,
    "start_time": "2024-08-06T00:43:02.178Z"
   },
   {
    "duration": 184,
    "start_time": "2024-08-06T00:43:03.463Z"
   },
   {
    "duration": 25,
    "start_time": "2024-08-06T00:43:03.651Z"
   },
   {
    "duration": 34,
    "start_time": "2024-08-06T00:43:03.680Z"
   },
   {
    "duration": 14,
    "start_time": "2024-08-06T00:43:03.717Z"
   },
   {
    "duration": 72,
    "start_time": "2024-08-06T00:43:03.734Z"
   },
   {
    "duration": 149,
    "start_time": "2024-08-06T00:43:03.810Z"
   },
   {
    "duration": 112,
    "start_time": "2024-08-06T00:43:03.962Z"
   },
   {
    "duration": 34,
    "start_time": "2024-08-06T00:43:04.077Z"
   },
   {
    "duration": 4,
    "start_time": "2024-08-06T00:43:04.118Z"
   },
   {
    "duration": 11,
    "start_time": "2024-08-06T00:43:04.125Z"
   },
   {
    "duration": 12,
    "start_time": "2024-08-06T00:43:04.139Z"
   },
   {
    "duration": 56,
    "start_time": "2024-08-06T00:43:04.153Z"
   },
   {
    "duration": 1381,
    "start_time": "2024-08-06T00:43:04.212Z"
   },
   {
    "duration": 29,
    "start_time": "2024-08-06T00:43:05.596Z"
   },
   {
    "duration": 1403,
    "start_time": "2024-08-06T00:43:05.629Z"
   },
   {
    "duration": 10,
    "start_time": "2024-08-06T00:43:07.035Z"
   },
   {
    "duration": 11,
    "start_time": "2024-08-06T00:43:07.048Z"
   },
   {
    "duration": 6,
    "start_time": "2024-08-06T00:43:07.062Z"
   },
   {
    "duration": 12,
    "start_time": "2024-08-06T00:43:07.107Z"
   },
   {
    "duration": 7,
    "start_time": "2024-08-06T00:43:07.125Z"
   },
   {
    "duration": 38,
    "start_time": "2024-08-06T00:43:07.135Z"
   },
   {
    "duration": 27,
    "start_time": "2024-08-06T00:51:50.854Z"
   },
   {
    "duration": 70,
    "start_time": "2024-08-06T00:59:19.931Z"
   },
   {
    "duration": 9721,
    "start_time": "2024-08-06T01:07:02.193Z"
   },
   {
    "duration": 137,
    "start_time": "2024-08-06T01:08:24.332Z"
   },
   {
    "duration": 139,
    "start_time": "2024-08-06T01:09:34.463Z"
   },
   {
    "duration": 9513,
    "start_time": "2024-08-06T01:09:34.608Z"
   },
   {
    "duration": 9585,
    "start_time": "2024-08-06T01:10:51.383Z"
   },
   {
    "duration": 9483,
    "start_time": "2024-08-06T01:12:05.023Z"
   },
   {
    "duration": 9679,
    "start_time": "2024-08-06T01:12:53.780Z"
   },
   {
    "duration": 143,
    "start_time": "2024-08-06T01:15:46.888Z"
   },
   {
    "duration": 176,
    "start_time": "2024-08-06T01:22:42.964Z"
   },
   {
    "duration": 1302,
    "start_time": "2024-08-06T01:24:56.019Z"
   },
   {
    "duration": 184,
    "start_time": "2024-08-06T01:24:57.325Z"
   },
   {
    "duration": 27,
    "start_time": "2024-08-06T01:24:57.511Z"
   },
   {
    "duration": 14,
    "start_time": "2024-08-06T01:24:57.543Z"
   },
   {
    "duration": 51,
    "start_time": "2024-08-06T01:24:57.560Z"
   },
   {
    "duration": 48,
    "start_time": "2024-08-06T01:24:57.615Z"
   },
   {
    "duration": 168,
    "start_time": "2024-08-06T01:24:57.666Z"
   },
   {
    "duration": 119,
    "start_time": "2024-08-06T01:24:57.837Z"
   },
   {
    "duration": 49,
    "start_time": "2024-08-06T01:24:57.959Z"
   },
   {
    "duration": 5,
    "start_time": "2024-08-06T01:24:58.017Z"
   },
   {
    "duration": 10,
    "start_time": "2024-08-06T01:24:58.027Z"
   },
   {
    "duration": 12,
    "start_time": "2024-08-06T01:24:58.040Z"
   },
   {
    "duration": 53,
    "start_time": "2024-08-06T01:24:58.055Z"
   },
   {
    "duration": 1444,
    "start_time": "2024-08-06T01:24:58.111Z"
   },
   {
    "duration": 23,
    "start_time": "2024-08-06T01:24:59.558Z"
   },
   {
    "duration": 1420,
    "start_time": "2024-08-06T01:24:59.586Z"
   },
   {
    "duration": 10,
    "start_time": "2024-08-06T01:25:01.008Z"
   },
   {
    "duration": 10,
    "start_time": "2024-08-06T01:25:01.021Z"
   },
   {
    "duration": 7,
    "start_time": "2024-08-06T01:25:01.033Z"
   },
   {
    "duration": 13,
    "start_time": "2024-08-06T01:25:01.043Z"
   },
   {
    "duration": 47,
    "start_time": "2024-08-06T01:25:01.061Z"
   },
   {
    "duration": 39,
    "start_time": "2024-08-06T01:25:01.111Z"
   },
   {
    "duration": 59,
    "start_time": "2024-08-06T01:25:01.153Z"
   },
   {
    "duration": 91,
    "start_time": "2024-08-06T01:25:01.216Z"
   },
   {
    "duration": 147,
    "start_time": "2024-08-06T01:25:01.310Z"
   },
   {
    "duration": 9772,
    "start_time": "2024-08-06T01:25:01.460Z"
   },
   {
    "duration": 4945,
    "start_time": "2024-08-08T17:17:05.231Z"
   },
   {
    "duration": 207,
    "start_time": "2024-08-08T17:17:17.145Z"
   },
   {
    "duration": 23,
    "start_time": "2024-08-08T17:17:18.049Z"
   },
   {
    "duration": 8,
    "start_time": "2024-08-08T17:19:28.143Z"
   },
   {
    "duration": 1221,
    "start_time": "2024-08-08T17:22:10.409Z"
   },
   {
    "duration": 5,
    "start_time": "2024-08-08T17:22:28.963Z"
   },
   {
    "duration": 181,
    "start_time": "2024-08-08T17:22:29.605Z"
   },
   {
    "duration": 25,
    "start_time": "2024-08-08T17:22:30.218Z"
   },
   {
    "duration": 11,
    "start_time": "2024-08-08T17:22:30.998Z"
   },
   {
    "duration": 13,
    "start_time": "2024-08-08T17:22:31.750Z"
   },
   {
    "duration": 27,
    "start_time": "2024-08-08T17:22:32.985Z"
   },
   {
    "duration": 6,
    "start_time": "2024-08-08T17:22:58.612Z"
   },
   {
    "duration": 51,
    "start_time": "2024-08-08T17:25:07.444Z"
   },
   {
    "duration": 196,
    "start_time": "2024-08-08T17:25:10.298Z"
   },
   {
    "duration": 26,
    "start_time": "2024-08-08T17:27:58.227Z"
   },
   {
    "duration": 599,
    "start_time": "2024-08-08T17:28:20.698Z"
   },
   {
    "duration": 136,
    "start_time": "2024-08-08T17:30:04.379Z"
   },
   {
    "duration": 1266,
    "start_time": "2024-08-08T17:30:10.412Z"
   },
   {
    "duration": 182,
    "start_time": "2024-08-08T17:30:11.682Z"
   },
   {
    "duration": 25,
    "start_time": "2024-08-08T17:30:11.867Z"
   },
   {
    "duration": 32,
    "start_time": "2024-08-08T17:30:11.895Z"
   },
   {
    "duration": 15,
    "start_time": "2024-08-08T17:30:11.930Z"
   },
   {
    "duration": 28,
    "start_time": "2024-08-08T17:30:11.949Z"
   },
   {
    "duration": 7,
    "start_time": "2024-08-08T17:30:11.980Z"
   },
   {
    "duration": 49,
    "start_time": "2024-08-08T17:30:12.027Z"
   },
   {
    "duration": 18,
    "start_time": "2024-08-08T17:30:12.079Z"
   },
   {
    "duration": 79,
    "start_time": "2024-08-08T17:30:12.128Z"
   },
   {
    "duration": 41,
    "start_time": "2024-08-08T17:30:12.209Z"
   },
   {
    "duration": 5,
    "start_time": "2024-08-08T17:30:12.254Z"
   },
   {
    "duration": 11,
    "start_time": "2024-08-08T17:30:12.262Z"
   },
   {
    "duration": 50,
    "start_time": "2024-08-08T17:30:12.276Z"
   },
   {
    "duration": 1313,
    "start_time": "2024-08-08T17:30:12.330Z"
   },
   {
    "duration": 0,
    "start_time": "2024-08-08T17:30:13.646Z"
   },
   {
    "duration": 0,
    "start_time": "2024-08-08T17:30:13.648Z"
   },
   {
    "duration": 0,
    "start_time": "2024-08-08T17:30:13.649Z"
   },
   {
    "duration": 0,
    "start_time": "2024-08-08T17:30:13.651Z"
   },
   {
    "duration": 0,
    "start_time": "2024-08-08T17:30:13.653Z"
   },
   {
    "duration": 0,
    "start_time": "2024-08-08T17:30:13.655Z"
   },
   {
    "duration": 0,
    "start_time": "2024-08-08T17:30:13.657Z"
   },
   {
    "duration": 0,
    "start_time": "2024-08-08T17:30:13.659Z"
   },
   {
    "duration": 0,
    "start_time": "2024-08-08T17:30:13.661Z"
   },
   {
    "duration": 0,
    "start_time": "2024-08-08T17:30:13.663Z"
   },
   {
    "duration": 0,
    "start_time": "2024-08-08T17:30:13.665Z"
   },
   {
    "duration": 0,
    "start_time": "2024-08-08T17:30:13.667Z"
   },
   {
    "duration": 0,
    "start_time": "2024-08-08T17:30:13.669Z"
   },
   {
    "duration": 26,
    "start_time": "2024-08-08T17:30:44.201Z"
   },
   {
    "duration": 38,
    "start_time": "2024-08-08T17:32:18.431Z"
   },
   {
    "duration": 74,
    "start_time": "2024-08-08T17:33:08.597Z"
   },
   {
    "duration": 31,
    "start_time": "2024-08-08T17:33:09.426Z"
   },
   {
    "duration": 4,
    "start_time": "2024-08-08T17:33:10.479Z"
   },
   {
    "duration": 10,
    "start_time": "2024-08-08T17:33:13.355Z"
   },
   {
    "duration": 14,
    "start_time": "2024-08-08T17:33:14.137Z"
   },
   {
    "duration": 8,
    "start_time": "2024-08-08T17:35:23.769Z"
   },
   {
    "duration": 8,
    "start_time": "2024-08-08T17:35:29.663Z"
   },
   {
    "duration": 88,
    "start_time": "2024-08-08T17:37:18.794Z"
   },
   {
    "duration": 1333,
    "start_time": "2024-08-08T17:37:34.837Z"
   },
   {
    "duration": 80,
    "start_time": "2024-08-08T17:37:51.544Z"
   },
   {
    "duration": 25,
    "start_time": "2024-08-08T17:38:27.164Z"
   },
   {
    "duration": 1424,
    "start_time": "2024-08-08T17:38:53.148Z"
   },
   {
    "duration": 1355,
    "start_time": "2024-08-08T17:40:36.842Z"
   },
   {
    "duration": 1398,
    "start_time": "2024-08-08T17:41:10.149Z"
   },
   {
    "duration": 1360,
    "start_time": "2024-08-08T17:41:29.903Z"
   },
   {
    "duration": 9,
    "start_time": "2024-08-08T17:41:40.507Z"
   },
   {
    "duration": 10,
    "start_time": "2024-08-08T17:41:45.209Z"
   },
   {
    "duration": 6,
    "start_time": "2024-08-08T17:41:56.084Z"
   },
   {
    "duration": 13,
    "start_time": "2024-08-08T17:42:04.579Z"
   },
   {
    "duration": 11,
    "start_time": "2024-08-08T17:46:14.301Z"
   },
   {
    "duration": 6,
    "start_time": "2024-08-08T17:47:22.082Z"
   },
   {
    "duration": 37,
    "start_time": "2024-08-08T17:47:36.688Z"
   },
   {
    "duration": 27,
    "start_time": "2024-08-08T17:48:40.061Z"
   },
   {
    "duration": 69,
    "start_time": "2024-08-08T17:48:51.739Z"
   },
   {
    "duration": 35,
    "start_time": "2024-08-08T17:49:05.612Z"
   },
   {
    "duration": 135,
    "start_time": "2024-08-08T17:49:21.283Z"
   },
   {
    "duration": 9997,
    "start_time": "2024-08-08T17:50:00.450Z"
   },
   {
    "duration": 4,
    "start_time": "2024-08-08T18:09:18.297Z"
   },
   {
    "duration": 25,
    "start_time": "2024-08-08T18:10:47.904Z"
   },
   {
    "duration": 5,
    "start_time": "2024-08-08T18:10:59.140Z"
   },
   {
    "duration": 49927,
    "start_time": "2024-08-08T18:11:55.481Z"
   },
   {
    "duration": 1272,
    "start_time": "2024-08-08T18:13:32.091Z"
   },
   {
    "duration": 188,
    "start_time": "2024-08-08T18:13:33.366Z"
   },
   {
    "duration": 26,
    "start_time": "2024-08-08T18:13:33.556Z"
   },
   {
    "duration": 13,
    "start_time": "2024-08-08T18:13:33.587Z"
   },
   {
    "duration": 5,
    "start_time": "2024-08-08T18:13:33.625Z"
   },
   {
    "duration": 0,
    "start_time": "2024-08-08T18:13:33.634Z"
   },
   {
    "duration": 0,
    "start_time": "2024-08-08T18:13:33.637Z"
   },
   {
    "duration": 0,
    "start_time": "2024-08-08T18:13:33.639Z"
   },
   {
    "duration": 0,
    "start_time": "2024-08-08T18:13:33.642Z"
   },
   {
    "duration": 0,
    "start_time": "2024-08-08T18:13:33.644Z"
   },
   {
    "duration": 0,
    "start_time": "2024-08-08T18:13:33.646Z"
   },
   {
    "duration": 0,
    "start_time": "2024-08-08T18:13:33.648Z"
   },
   {
    "duration": 0,
    "start_time": "2024-08-08T18:13:33.649Z"
   },
   {
    "duration": 0,
    "start_time": "2024-08-08T18:13:33.652Z"
   },
   {
    "duration": 0,
    "start_time": "2024-08-08T18:13:33.654Z"
   },
   {
    "duration": 0,
    "start_time": "2024-08-08T18:13:33.656Z"
   },
   {
    "duration": 0,
    "start_time": "2024-08-08T18:13:33.658Z"
   },
   {
    "duration": 0,
    "start_time": "2024-08-08T18:13:33.660Z"
   },
   {
    "duration": 0,
    "start_time": "2024-08-08T18:13:33.662Z"
   },
   {
    "duration": 0,
    "start_time": "2024-08-08T18:13:33.664Z"
   },
   {
    "duration": 0,
    "start_time": "2024-08-08T18:13:33.666Z"
   },
   {
    "duration": 0,
    "start_time": "2024-08-08T18:13:33.726Z"
   },
   {
    "duration": 0,
    "start_time": "2024-08-08T18:13:33.729Z"
   },
   {
    "duration": 0,
    "start_time": "2024-08-08T18:13:33.731Z"
   },
   {
    "duration": 0,
    "start_time": "2024-08-08T18:13:33.733Z"
   },
   {
    "duration": 0,
    "start_time": "2024-08-08T18:13:33.735Z"
   },
   {
    "duration": 0,
    "start_time": "2024-08-08T18:13:33.737Z"
   },
   {
    "duration": 0,
    "start_time": "2024-08-08T18:13:33.738Z"
   },
   {
    "duration": 0,
    "start_time": "2024-08-08T18:13:33.740Z"
   },
   {
    "duration": 0,
    "start_time": "2024-08-08T18:13:33.743Z"
   },
   {
    "duration": 1243,
    "start_time": "2024-08-08T18:14:11.636Z"
   },
   {
    "duration": 177,
    "start_time": "2024-08-08T18:14:12.883Z"
   },
   {
    "duration": 24,
    "start_time": "2024-08-08T18:14:13.063Z"
   },
   {
    "duration": 35,
    "start_time": "2024-08-08T18:14:13.092Z"
   },
   {
    "duration": 6,
    "start_time": "2024-08-08T18:14:13.130Z"
   },
   {
    "duration": 0,
    "start_time": "2024-08-08T18:14:13.141Z"
   },
   {
    "duration": 0,
    "start_time": "2024-08-08T18:14:13.143Z"
   },
   {
    "duration": 0,
    "start_time": "2024-08-08T18:14:13.145Z"
   },
   {
    "duration": 0,
    "start_time": "2024-08-08T18:14:13.148Z"
   },
   {
    "duration": 0,
    "start_time": "2024-08-08T18:14:13.150Z"
   },
   {
    "duration": 0,
    "start_time": "2024-08-08T18:14:13.153Z"
   },
   {
    "duration": 0,
    "start_time": "2024-08-08T18:14:13.155Z"
   },
   {
    "duration": 0,
    "start_time": "2024-08-08T18:14:13.157Z"
   },
   {
    "duration": 0,
    "start_time": "2024-08-08T18:14:13.159Z"
   },
   {
    "duration": 0,
    "start_time": "2024-08-08T18:14:13.161Z"
   },
   {
    "duration": 0,
    "start_time": "2024-08-08T18:14:13.163Z"
   },
   {
    "duration": 0,
    "start_time": "2024-08-08T18:14:13.168Z"
   },
   {
    "duration": 0,
    "start_time": "2024-08-08T18:14:13.169Z"
   },
   {
    "duration": 0,
    "start_time": "2024-08-08T18:14:13.227Z"
   },
   {
    "duration": 0,
    "start_time": "2024-08-08T18:14:13.230Z"
   },
   {
    "duration": 0,
    "start_time": "2024-08-08T18:14:13.232Z"
   },
   {
    "duration": 0,
    "start_time": "2024-08-08T18:14:13.235Z"
   },
   {
    "duration": 0,
    "start_time": "2024-08-08T18:14:13.237Z"
   },
   {
    "duration": 0,
    "start_time": "2024-08-08T18:14:13.240Z"
   },
   {
    "duration": 0,
    "start_time": "2024-08-08T18:14:13.242Z"
   },
   {
    "duration": 0,
    "start_time": "2024-08-08T18:14:13.243Z"
   },
   {
    "duration": 0,
    "start_time": "2024-08-08T18:14:13.246Z"
   },
   {
    "duration": 0,
    "start_time": "2024-08-08T18:14:13.248Z"
   },
   {
    "duration": 0,
    "start_time": "2024-08-08T18:14:13.250Z"
   },
   {
    "duration": 0,
    "start_time": "2024-08-08T18:14:13.253Z"
   },
   {
    "duration": 1263,
    "start_time": "2024-08-08T18:14:36.431Z"
   },
   {
    "duration": 200,
    "start_time": "2024-08-08T18:14:37.697Z"
   },
   {
    "duration": 34,
    "start_time": "2024-08-08T18:14:37.899Z"
   },
   {
    "duration": 15,
    "start_time": "2024-08-08T18:14:37.937Z"
   },
   {
    "duration": 15,
    "start_time": "2024-08-08T18:14:37.955Z"
   },
   {
    "duration": 60,
    "start_time": "2024-08-08T18:14:37.972Z"
   },
   {
    "duration": 6,
    "start_time": "2024-08-08T18:14:38.035Z"
   },
   {
    "duration": 49,
    "start_time": "2024-08-08T18:14:38.044Z"
   },
   {
    "duration": 64,
    "start_time": "2024-08-08T18:14:38.096Z"
   },
   {
    "duration": 107,
    "start_time": "2024-08-08T18:14:38.166Z"
   },
   {
    "duration": 29,
    "start_time": "2024-08-08T18:14:38.276Z"
   },
   {
    "duration": 19,
    "start_time": "2024-08-08T18:14:38.308Z"
   },
   {
    "duration": 12,
    "start_time": "2024-08-08T18:14:38.331Z"
   },
   {
    "duration": 13,
    "start_time": "2024-08-08T18:14:38.346Z"
   },
   {
    "duration": 8,
    "start_time": "2024-08-08T18:14:38.362Z"
   },
   {
    "duration": 1448,
    "start_time": "2024-08-08T18:14:38.372Z"
   },
   {
    "duration": 23,
    "start_time": "2024-08-08T18:14:39.828Z"
   },
   {
    "duration": 1402,
    "start_time": "2024-08-08T18:14:39.854Z"
   },
   {
    "duration": 9,
    "start_time": "2024-08-08T18:14:41.260Z"
   },
   {
    "duration": 9,
    "start_time": "2024-08-08T18:14:41.272Z"
   },
   {
    "duration": 43269,
    "start_time": "2024-08-08T18:14:41.284Z"
   },
   {
    "duration": 7,
    "start_time": "2024-08-08T18:15:24.556Z"
   },
   {
    "duration": 12,
    "start_time": "2024-08-08T18:15:24.566Z"
   },
   {
    "duration": 7,
    "start_time": "2024-08-08T18:15:24.581Z"
   },
   {
    "duration": 37,
    "start_time": "2024-08-08T18:15:24.626Z"
   },
   {
    "duration": 27,
    "start_time": "2024-08-08T18:15:24.666Z"
   },
   {
    "duration": 89,
    "start_time": "2024-08-08T18:15:24.698Z"
   },
   {
    "duration": 149,
    "start_time": "2024-08-08T18:15:24.793Z"
   },
   {
    "duration": 9593,
    "start_time": "2024-08-08T18:15:24.945Z"
   },
   {
    "duration": 6,
    "start_time": "2024-08-08T18:16:36.699Z"
   },
   {
    "duration": 1283,
    "start_time": "2024-08-08T18:17:30.943Z"
   },
   {
    "duration": 188,
    "start_time": "2024-08-08T18:17:32.230Z"
   },
   {
    "duration": 29,
    "start_time": "2024-08-08T18:17:32.420Z"
   },
   {
    "duration": 14,
    "start_time": "2024-08-08T18:17:32.453Z"
   },
   {
    "duration": 14,
    "start_time": "2024-08-08T18:17:32.470Z"
   },
   {
    "duration": 64,
    "start_time": "2024-08-08T18:17:32.487Z"
   },
   {
    "duration": 5,
    "start_time": "2024-08-08T18:17:32.554Z"
   },
   {
    "duration": 74,
    "start_time": "2024-08-08T18:17:32.562Z"
   },
   {
    "duration": 38,
    "start_time": "2024-08-08T18:17:32.639Z"
   },
   {
    "duration": 106,
    "start_time": "2024-08-08T18:17:32.682Z"
   },
   {
    "duration": 39,
    "start_time": "2024-08-08T18:17:32.791Z"
   },
   {
    "duration": 5,
    "start_time": "2024-08-08T18:17:32.833Z"
   },
   {
    "duration": 11,
    "start_time": "2024-08-08T18:17:32.842Z"
   },
   {
    "duration": 12,
    "start_time": "2024-08-08T18:17:32.856Z"
   },
   {
    "duration": 55,
    "start_time": "2024-08-08T18:17:32.871Z"
   },
   {
    "duration": 1370,
    "start_time": "2024-08-08T18:17:32.929Z"
   },
   {
    "duration": 37,
    "start_time": "2024-08-08T18:17:34.302Z"
   },
   {
    "duration": 1378,
    "start_time": "2024-08-08T18:17:34.341Z"
   },
   {
    "duration": 10,
    "start_time": "2024-08-08T18:17:35.722Z"
   },
   {
    "duration": 9,
    "start_time": "2024-08-08T18:17:35.735Z"
   },
   {
    "duration": 52826,
    "start_time": "2024-08-08T18:17:35.747Z"
   },
   {
    "duration": 7,
    "start_time": "2024-08-08T18:18:28.576Z"
   },
   {
    "duration": 41,
    "start_time": "2024-08-08T18:18:28.587Z"
   },
   {
    "duration": 7,
    "start_time": "2024-08-08T18:18:28.631Z"
   },
   {
    "duration": 37,
    "start_time": "2024-08-08T18:18:28.641Z"
   },
   {
    "duration": 56,
    "start_time": "2024-08-08T18:18:28.681Z"
   },
   {
    "duration": 85,
    "start_time": "2024-08-08T18:18:28.741Z"
   },
   {
    "duration": 140,
    "start_time": "2024-08-08T18:18:28.833Z"
   },
   {
    "duration": 9906,
    "start_time": "2024-08-08T18:18:28.976Z"
   },
   {
    "duration": 49308,
    "start_time": "2024-08-08T18:23:32.606Z"
   },
   {
    "duration": 417,
    "start_time": "2024-08-08T18:24:21.917Z"
   },
   {
    "duration": 0,
    "start_time": "2024-08-08T18:24:22.337Z"
   },
   {
    "duration": 28,
    "start_time": "2024-08-08T18:24:29.763Z"
   },
   {
    "duration": 1231,
    "start_time": "2024-08-08T18:25:33.060Z"
   },
   {
    "duration": 182,
    "start_time": "2024-08-08T18:25:34.294Z"
   },
   {
    "duration": 27,
    "start_time": "2024-08-08T18:25:34.479Z"
   },
   {
    "duration": 13,
    "start_time": "2024-08-08T18:25:34.525Z"
   },
   {
    "duration": 14,
    "start_time": "2024-08-08T18:25:34.541Z"
   },
   {
    "duration": 28,
    "start_time": "2024-08-08T18:25:34.558Z"
   },
   {
    "duration": 39,
    "start_time": "2024-08-08T18:25:34.589Z"
   },
   {
    "duration": 50,
    "start_time": "2024-08-08T18:25:34.631Z"
   },
   {
    "duration": 64,
    "start_time": "2024-08-08T18:25:34.683Z"
   },
   {
    "duration": 93,
    "start_time": "2024-08-08T18:25:34.753Z"
   },
   {
    "duration": 28,
    "start_time": "2024-08-08T18:25:34.849Z"
   },
   {
    "duration": 6,
    "start_time": "2024-08-08T18:25:34.880Z"
   },
   {
    "duration": 43,
    "start_time": "2024-08-08T18:25:34.888Z"
   },
   {
    "duration": 12,
    "start_time": "2024-08-08T18:25:34.934Z"
   },
   {
    "duration": 8,
    "start_time": "2024-08-08T18:25:34.949Z"
   },
   {
    "duration": 1393,
    "start_time": "2024-08-08T18:25:34.960Z"
   },
   {
    "duration": 22,
    "start_time": "2024-08-08T18:25:36.356Z"
   },
   {
    "duration": 1423,
    "start_time": "2024-08-08T18:25:36.381Z"
   },
   {
    "duration": 23,
    "start_time": "2024-08-08T18:25:37.808Z"
   },
   {
    "duration": 12,
    "start_time": "2024-08-08T18:25:37.834Z"
   },
   {
    "duration": 7,
    "start_time": "2024-08-08T18:25:37.848Z"
   },
   {
    "duration": 7,
    "start_time": "2024-08-08T18:25:37.858Z"
   },
   {
    "duration": 87,
    "start_time": "2024-08-08T18:25:37.868Z"
   },
   {
    "duration": 27,
    "start_time": "2024-08-08T18:25:37.958Z"
   },
   {
    "duration": 89,
    "start_time": "2024-08-08T18:25:37.989Z"
   },
   {
    "duration": 151,
    "start_time": "2024-08-08T18:25:38.081Z"
   },
   {
    "duration": 9760,
    "start_time": "2024-08-08T18:25:38.235Z"
   },
   {
    "duration": 26,
    "start_time": "2024-08-08T18:34:51.745Z"
   },
   {
    "duration": 67,
    "start_time": "2024-08-08T18:36:20.877Z"
   },
   {
    "duration": 136,
    "start_time": "2024-08-08T18:40:32.576Z"
   },
   {
    "duration": 27,
    "start_time": "2024-08-08T18:46:08.233Z"
   },
   {
    "duration": 26,
    "start_time": "2024-08-08T18:46:30.816Z"
   },
   {
    "duration": 73,
    "start_time": "2024-08-08T18:53:56.289Z"
   },
   {
    "duration": 75,
    "start_time": "2024-08-08T18:58:47.218Z"
   },
   {
    "duration": 12,
    "start_time": "2024-08-08T19:04:15.412Z"
   },
   {
    "duration": 12,
    "start_time": "2024-08-08T19:05:07.670Z"
   },
   {
    "duration": 72,
    "start_time": "2024-08-08T19:07:26.631Z"
   },
   {
    "duration": 404,
    "start_time": "2024-08-08T19:15:17.775Z"
   },
   {
    "duration": 8,
    "start_time": "2024-08-08T19:15:42.064Z"
   },
   {
    "duration": 30,
    "start_time": "2024-08-08T19:16:25.158Z"
   },
   {
    "duration": 9,
    "start_time": "2024-08-08T19:16:40.034Z"
   },
   {
    "duration": 10,
    "start_time": "2024-08-08T19:18:17.538Z"
   },
   {
    "duration": 11,
    "start_time": "2024-08-08T19:18:30.242Z"
   },
   {
    "duration": 15,
    "start_time": "2024-08-08T19:27:41.137Z"
   },
   {
    "duration": 6,
    "start_time": "2024-08-08T19:28:55.281Z"
   },
   {
    "duration": 6,
    "start_time": "2024-08-08T19:29:23.767Z"
   },
   {
    "duration": 5,
    "start_time": "2024-08-08T19:29:39.551Z"
   },
   {
    "duration": 6,
    "start_time": "2024-08-08T19:31:28.222Z"
   },
   {
    "duration": 589,
    "start_time": "2024-08-08T19:32:17.218Z"
   },
   {
    "duration": 7,
    "start_time": "2024-08-08T19:34:35.602Z"
   },
   {
    "duration": 5,
    "start_time": "2024-08-08T19:36:23.221Z"
   },
   {
    "duration": 5,
    "start_time": "2024-08-08T19:37:01.438Z"
   },
   {
    "duration": 10,
    "start_time": "2024-08-08T19:37:08.444Z"
   },
   {
    "duration": 5,
    "start_time": "2024-08-08T19:37:14.361Z"
   },
   {
    "duration": 6,
    "start_time": "2024-08-08T19:37:21.675Z"
   },
   {
    "duration": 6,
    "start_time": "2024-08-08T19:37:28.736Z"
   },
   {
    "duration": 6,
    "start_time": "2024-08-08T19:37:49.124Z"
   },
   {
    "duration": 4,
    "start_time": "2024-08-08T19:44:42.605Z"
   },
   {
    "duration": 4,
    "start_time": "2024-08-08T19:45:39.960Z"
   },
   {
    "duration": 7,
    "start_time": "2024-08-08T19:45:51.448Z"
   },
   {
    "duration": 23,
    "start_time": "2024-08-08T19:50:31.611Z"
   },
   {
    "duration": 247,
    "start_time": "2024-08-08T19:50:51.315Z"
   },
   {
    "duration": 39,
    "start_time": "2024-08-08T19:51:19.510Z"
   },
   {
    "duration": 38,
    "start_time": "2024-08-08T19:52:05.697Z"
   },
   {
    "duration": 19,
    "start_time": "2024-08-08T19:54:33.066Z"
   },
   {
    "duration": 8,
    "start_time": "2024-08-08T19:58:35.034Z"
   },
   {
    "duration": 16,
    "start_time": "2024-08-08T19:58:47.515Z"
   },
   {
    "duration": 8,
    "start_time": "2024-08-08T19:58:59.264Z"
   },
   {
    "duration": 1264,
    "start_time": "2024-08-08T19:59:46.213Z"
   },
   {
    "duration": 193,
    "start_time": "2024-08-08T19:59:47.480Z"
   },
   {
    "duration": 25,
    "start_time": "2024-08-08T19:59:47.676Z"
   },
   {
    "duration": 18,
    "start_time": "2024-08-08T19:59:47.725Z"
   },
   {
    "duration": 14,
    "start_time": "2024-08-08T19:59:47.745Z"
   },
   {
    "duration": 27,
    "start_time": "2024-08-08T19:59:47.762Z"
   },
   {
    "duration": 35,
    "start_time": "2024-08-08T19:59:47.792Z"
   },
   {
    "duration": 53,
    "start_time": "2024-08-08T19:59:47.830Z"
   },
   {
    "duration": 69,
    "start_time": "2024-08-08T19:59:47.886Z"
   },
   {
    "duration": 96,
    "start_time": "2024-08-08T19:59:47.960Z"
   },
   {
    "duration": 29,
    "start_time": "2024-08-08T19:59:48.058Z"
   },
   {
    "duration": 5,
    "start_time": "2024-08-08T19:59:48.090Z"
   },
   {
    "duration": 41,
    "start_time": "2024-08-08T19:59:48.097Z"
   },
   {
    "duration": 12,
    "start_time": "2024-08-08T19:59:48.141Z"
   },
   {
    "duration": 8,
    "start_time": "2024-08-08T19:59:48.156Z"
   },
   {
    "duration": 1419,
    "start_time": "2024-08-08T19:59:48.166Z"
   },
   {
    "duration": 21,
    "start_time": "2024-08-08T19:59:49.588Z"
   },
   {
    "duration": 1403,
    "start_time": "2024-08-08T19:59:49.612Z"
   },
   {
    "duration": 10,
    "start_time": "2024-08-08T19:59:51.027Z"
   },
   {
    "duration": 8,
    "start_time": "2024-08-08T19:59:51.040Z"
   },
   {
    "duration": 7,
    "start_time": "2024-08-08T19:59:51.051Z"
   },
   {
    "duration": 7,
    "start_time": "2024-08-08T19:59:51.062Z"
   },
   {
    "duration": 87,
    "start_time": "2024-08-08T19:59:51.072Z"
   },
   {
    "duration": 33,
    "start_time": "2024-08-08T19:59:51.165Z"
   },
   {
    "duration": 33,
    "start_time": "2024-08-08T19:59:51.200Z"
   },
   {
    "duration": 90,
    "start_time": "2024-08-08T19:59:51.236Z"
   },
   {
    "duration": 6,
    "start_time": "2024-08-08T19:59:51.329Z"
   },
   {
    "duration": 37,
    "start_time": "2024-08-08T19:59:51.341Z"
   },
   {
    "duration": 6707,
    "start_time": "2024-08-08T20:06:35.426Z"
   },
   {
    "duration": 1274,
    "start_time": "2024-08-08T20:07:35.494Z"
   },
   {
    "duration": 184,
    "start_time": "2024-08-08T20:07:36.771Z"
   },
   {
    "duration": 25,
    "start_time": "2024-08-08T20:07:36.958Z"
   },
   {
    "duration": 40,
    "start_time": "2024-08-08T20:07:36.987Z"
   },
   {
    "duration": 14,
    "start_time": "2024-08-08T20:07:37.030Z"
   },
   {
    "duration": 28,
    "start_time": "2024-08-08T20:07:37.047Z"
   },
   {
    "duration": 5,
    "start_time": "2024-08-08T20:07:37.078Z"
   },
   {
    "duration": 51,
    "start_time": "2024-08-08T20:07:37.125Z"
   },
   {
    "duration": 54,
    "start_time": "2024-08-08T20:07:37.178Z"
   },
   {
    "duration": 92,
    "start_time": "2024-08-08T20:07:37.237Z"
   },
   {
    "duration": 29,
    "start_time": "2024-08-08T20:07:37.331Z"
   },
   {
    "duration": 5,
    "start_time": "2024-08-08T20:07:37.363Z"
   },
   {
    "duration": 9,
    "start_time": "2024-08-08T20:07:37.371Z"
   },
   {
    "duration": 50,
    "start_time": "2024-08-08T20:07:37.383Z"
   },
   {
    "duration": 9,
    "start_time": "2024-08-08T20:07:37.435Z"
   },
   {
    "duration": 1427,
    "start_time": "2024-08-08T20:07:37.447Z"
   },
   {
    "duration": 23,
    "start_time": "2024-08-08T20:07:38.878Z"
   },
   {
    "duration": 1424,
    "start_time": "2024-08-08T20:07:38.904Z"
   },
   {
    "duration": 10,
    "start_time": "2024-08-08T20:07:40.331Z"
   },
   {
    "duration": 10,
    "start_time": "2024-08-08T20:07:40.344Z"
   },
   {
    "duration": 7,
    "start_time": "2024-08-08T20:07:40.356Z"
   },
   {
    "duration": 6,
    "start_time": "2024-08-08T20:07:40.366Z"
   },
   {
    "duration": 82,
    "start_time": "2024-08-08T20:07:40.375Z"
   },
   {
    "duration": 29,
    "start_time": "2024-08-08T20:07:40.459Z"
   },
   {
    "duration": 41,
    "start_time": "2024-08-08T20:07:40.491Z"
   },
   {
    "duration": 92,
    "start_time": "2024-08-08T20:07:40.535Z"
   },
   {
    "duration": 6,
    "start_time": "2024-08-08T20:07:40.632Z"
   },
   {
    "duration": 37,
    "start_time": "2024-08-08T20:07:40.646Z"
   },
   {
    "duration": 6681,
    "start_time": "2024-08-08T20:07:40.686Z"
   },
   {
    "duration": 24,
    "start_time": "2024-08-08T20:09:53.713Z"
   },
   {
    "duration": 24,
    "start_time": "2024-08-08T20:10:53.005Z"
   },
   {
    "duration": 20,
    "start_time": "2024-08-08T20:13:23.394Z"
   },
   {
    "duration": 27,
    "start_time": "2024-08-08T20:17:16.356Z"
   },
   {
    "duration": 35,
    "start_time": "2024-08-08T20:17:29.352Z"
   },
   {
    "duration": 60,
    "start_time": "2024-08-08T20:18:56.958Z"
   },
   {
    "duration": 32,
    "start_time": "2024-08-08T20:19:34.439Z"
   },
   {
    "duration": 19,
    "start_time": "2024-08-08T20:21:38.327Z"
   },
   {
    "duration": 28,
    "start_time": "2024-08-08T20:22:05.007Z"
   },
   {
    "duration": 307,
    "start_time": "2024-08-08T22:24:23.908Z"
   },
   {
    "duration": 4865,
    "start_time": "2024-08-08T22:24:34.853Z"
   },
   {
    "duration": 236,
    "start_time": "2024-08-08T22:24:39.725Z"
   },
   {
    "duration": 26,
    "start_time": "2024-08-08T22:24:39.963Z"
   },
   {
    "duration": 30,
    "start_time": "2024-08-08T22:24:39.994Z"
   },
   {
    "duration": 16,
    "start_time": "2024-08-08T22:24:40.027Z"
   },
   {
    "duration": 27,
    "start_time": "2024-08-08T22:24:40.046Z"
   },
   {
    "duration": 6,
    "start_time": "2024-08-08T22:24:40.076Z"
   },
   {
    "duration": 87,
    "start_time": "2024-08-08T22:24:40.084Z"
   },
   {
    "duration": 60,
    "start_time": "2024-08-08T22:24:40.174Z"
   },
   {
    "duration": 86,
    "start_time": "2024-08-08T22:24:40.239Z"
   },
   {
    "duration": 31,
    "start_time": "2024-08-08T22:24:40.328Z"
   },
   {
    "duration": 6,
    "start_time": "2024-08-08T22:24:40.361Z"
   },
   {
    "duration": 10,
    "start_time": "2024-08-08T22:24:40.370Z"
   },
   {
    "duration": 14,
    "start_time": "2024-08-08T22:24:40.424Z"
   },
   {
    "duration": 7,
    "start_time": "2024-08-08T22:24:40.441Z"
   },
   {
    "duration": 1400,
    "start_time": "2024-08-08T22:24:40.451Z"
   },
   {
    "duration": 22,
    "start_time": "2024-08-08T22:24:41.854Z"
   },
   {
    "duration": 1364,
    "start_time": "2024-08-08T22:24:41.879Z"
   },
   {
    "duration": 9,
    "start_time": "2024-08-08T22:24:43.247Z"
   },
   {
    "duration": 11,
    "start_time": "2024-08-08T22:24:43.259Z"
   },
   {
    "duration": 6,
    "start_time": "2024-08-08T22:24:43.273Z"
   },
   {
    "duration": 45,
    "start_time": "2024-08-08T22:24:43.282Z"
   },
   {
    "duration": 45,
    "start_time": "2024-08-08T22:24:43.330Z"
   },
   {
    "duration": 12,
    "start_time": "2024-08-08T22:24:43.380Z"
   },
   {
    "duration": 26,
    "start_time": "2024-08-08T22:24:43.423Z"
   },
   {
    "duration": 12,
    "start_time": "2024-08-08T22:24:43.453Z"
   },
   {
    "duration": 105,
    "start_time": "2024-08-08T22:24:43.468Z"
   },
   {
    "duration": 5,
    "start_time": "2024-08-08T22:24:43.579Z"
   },
   {
    "duration": 61,
    "start_time": "2024-08-08T22:24:43.587Z"
   },
   {
    "duration": 18,
    "start_time": "2024-08-08T22:24:43.652Z"
   },
   {
    "duration": 12,
    "start_time": "2024-08-08T22:30:21.527Z"
   },
   {
    "duration": 10,
    "start_time": "2024-08-08T22:33:19.448Z"
   },
   {
    "duration": 6,
    "start_time": "2024-08-08T22:33:25.381Z"
   },
   {
    "duration": 1141,
    "start_time": "2024-08-08T22:33:33.903Z"
   },
   {
    "duration": 88,
    "start_time": "2024-08-08T22:34:12.485Z"
   },
   {
    "duration": 9,
    "start_time": "2024-08-08T22:34:49.922Z"
   },
   {
    "duration": 555,
    "start_time": "2024-08-08T22:35:00.501Z"
   },
   {
    "duration": 51,
    "start_time": "2024-08-08T22:37:24.968Z"
   },
   {
    "duration": 33,
    "start_time": "2024-08-08T22:37:36.187Z"
   },
   {
    "duration": 35,
    "start_time": "2024-08-08T22:37:51.447Z"
   },
   {
    "duration": 51,
    "start_time": "2024-08-08T22:39:13.912Z"
   },
   {
    "duration": 41,
    "start_time": "2024-08-08T22:39:47.939Z"
   },
   {
    "duration": 69,
    "start_time": "2024-08-08T22:47:24.740Z"
   },
   {
    "duration": 108,
    "start_time": "2024-08-08T22:48:26.783Z"
   },
   {
    "duration": 59,
    "start_time": "2024-08-08T22:57:47.108Z"
   },
   {
    "duration": 250,
    "start_time": "2024-08-08T22:58:06.118Z"
   },
   {
    "duration": 12,
    "start_time": "2024-08-08T23:26:58.174Z"
   },
   {
    "duration": 34,
    "start_time": "2024-08-08T23:28:02.604Z"
   },
   {
    "duration": 39,
    "start_time": "2024-08-08T23:28:16.327Z"
   },
   {
    "duration": 35,
    "start_time": "2024-08-08T23:31:58.274Z"
   },
   {
    "duration": 38,
    "start_time": "2024-08-08T23:33:16.677Z"
   },
   {
    "duration": 31,
    "start_time": "2024-08-08T23:33:44.162Z"
   },
   {
    "duration": 10,
    "start_time": "2024-08-08T23:35:25.260Z"
   },
   {
    "duration": 6,
    "start_time": "2024-08-08T23:35:36.690Z"
   },
   {
    "duration": 346,
    "start_time": "2024-08-08T23:36:02.700Z"
   },
   {
    "duration": 43,
    "start_time": "2024-08-08T23:38:21.325Z"
   },
   {
    "duration": 55,
    "start_time": "2024-08-08T23:40:06.738Z"
   },
   {
    "duration": 111,
    "start_time": "2024-08-08T23:40:33.730Z"
   },
   {
    "duration": 244,
    "start_time": "2024-08-08T23:40:37.569Z"
   },
   {
    "duration": 4877,
    "start_time": "2024-08-09T01:32:45.754Z"
   },
   {
    "duration": 223,
    "start_time": "2024-08-09T01:32:50.635Z"
   },
   {
    "duration": 26,
    "start_time": "2024-08-09T01:32:50.860Z"
   },
   {
    "duration": 27,
    "start_time": "2024-08-09T01:32:50.891Z"
   },
   {
    "duration": 16,
    "start_time": "2024-08-09T01:32:50.921Z"
   },
   {
    "duration": 27,
    "start_time": "2024-08-09T01:32:50.939Z"
   },
   {
    "duration": 41,
    "start_time": "2024-08-09T01:32:50.969Z"
   },
   {
    "duration": 50,
    "start_time": "2024-08-09T01:32:51.013Z"
   },
   {
    "duration": 64,
    "start_time": "2024-08-09T01:32:51.066Z"
   },
   {
    "duration": 95,
    "start_time": "2024-08-09T01:32:51.135Z"
   },
   {
    "duration": 33,
    "start_time": "2024-08-09T01:32:51.233Z"
   },
   {
    "duration": 4,
    "start_time": "2024-08-09T01:32:51.269Z"
   },
   {
    "duration": 35,
    "start_time": "2024-08-09T01:32:51.276Z"
   },
   {
    "duration": 13,
    "start_time": "2024-08-09T01:32:51.314Z"
   },
   {
    "duration": 9,
    "start_time": "2024-08-09T01:32:51.331Z"
   },
   {
    "duration": 1371,
    "start_time": "2024-08-09T01:32:51.343Z"
   },
   {
    "duration": 23,
    "start_time": "2024-08-09T01:32:52.717Z"
   },
   {
    "duration": 1358,
    "start_time": "2024-08-09T01:32:52.743Z"
   },
   {
    "duration": 10,
    "start_time": "2024-08-09T01:32:54.109Z"
   },
   {
    "duration": 10,
    "start_time": "2024-08-09T01:32:54.121Z"
   },
   {
    "duration": 6,
    "start_time": "2024-08-09T01:32:54.134Z"
   },
   {
    "duration": 7,
    "start_time": "2024-08-09T01:32:54.143Z"
   },
   {
    "duration": 84,
    "start_time": "2024-08-09T01:32:54.153Z"
   },
   {
    "duration": 11,
    "start_time": "2024-08-09T01:32:54.240Z"
   },
   {
    "duration": 28,
    "start_time": "2024-08-09T01:32:54.254Z"
   },
   {
    "duration": 11,
    "start_time": "2024-08-09T01:32:54.310Z"
   },
   {
    "duration": 92,
    "start_time": "2024-08-09T01:32:54.324Z"
   },
   {
    "duration": 5,
    "start_time": "2024-08-09T01:32:54.423Z"
   },
   {
    "duration": 39,
    "start_time": "2024-08-09T01:32:54.431Z"
   },
   {
    "duration": 51,
    "start_time": "2024-08-09T01:32:54.473Z"
   },
   {
    "duration": 13,
    "start_time": "2024-08-09T01:32:54.527Z"
   },
   {
    "duration": 80,
    "start_time": "2024-08-09T01:32:54.543Z"
   },
   {
    "duration": 102,
    "start_time": "2024-08-09T01:32:54.626Z"
   },
   {
    "duration": 265,
    "start_time": "2024-08-09T01:32:54.731Z"
   },
   {
    "duration": 12,
    "start_time": "2024-08-09T01:40:39.010Z"
   },
   {
    "duration": 9,
    "start_time": "2024-08-09T01:47:07.805Z"
   },
   {
    "duration": 87,
    "start_time": "2024-08-09T02:00:40.109Z"
   },
   {
    "duration": 86,
    "start_time": "2024-08-09T02:02:01.013Z"
   },
   {
    "duration": 86,
    "start_time": "2024-08-09T02:03:51.902Z"
   },
   {
    "duration": 476,
    "start_time": "2024-08-09T02:10:16.079Z"
   },
   {
    "duration": 100,
    "start_time": "2024-08-09T02:11:05.321Z"
   },
   {
    "duration": 95,
    "start_time": "2024-08-09T02:11:33.155Z"
   },
   {
    "duration": 94,
    "start_time": "2024-08-09T02:12:25.664Z"
   },
   {
    "duration": 251,
    "start_time": "2024-08-09T02:12:42.017Z"
   },
   {
    "duration": 261,
    "start_time": "2024-08-09T02:13:35.396Z"
   },
   {
    "duration": 250,
    "start_time": "2024-08-09T02:14:36.941Z"
   },
   {
    "duration": 14,
    "start_time": "2024-08-09T02:23:23.809Z"
   },
   {
    "duration": 69,
    "start_time": "2024-08-09T02:25:05.250Z"
   },
   {
    "duration": 64,
    "start_time": "2024-08-09T02:28:26.845Z"
   },
   {
    "duration": 1269,
    "start_time": "2024-08-09T02:28:38.487Z"
   },
   {
    "duration": 182,
    "start_time": "2024-08-09T02:28:39.760Z"
   },
   {
    "duration": 24,
    "start_time": "2024-08-09T02:28:39.945Z"
   },
   {
    "duration": 14,
    "start_time": "2024-08-09T02:28:39.975Z"
   },
   {
    "duration": 17,
    "start_time": "2024-08-09T02:28:40.010Z"
   },
   {
    "duration": 29,
    "start_time": "2024-08-09T02:28:40.030Z"
   },
   {
    "duration": 6,
    "start_time": "2024-08-09T02:28:40.062Z"
   },
   {
    "duration": 83,
    "start_time": "2024-08-09T02:28:40.071Z"
   },
   {
    "duration": 54,
    "start_time": "2024-08-09T02:28:40.157Z"
   },
   {
    "duration": 93,
    "start_time": "2024-08-09T02:28:40.217Z"
   },
   {
    "duration": 30,
    "start_time": "2024-08-09T02:28:40.312Z"
   },
   {
    "duration": 12,
    "start_time": "2024-08-09T02:28:40.345Z"
   },
   {
    "duration": 12,
    "start_time": "2024-08-09T02:28:40.361Z"
   },
   {
    "duration": 41,
    "start_time": "2024-08-09T02:28:40.376Z"
   },
   {
    "duration": 9,
    "start_time": "2024-08-09T02:28:40.420Z"
   },
   {
    "duration": 1384,
    "start_time": "2024-08-09T02:28:40.432Z"
   },
   {
    "duration": 22,
    "start_time": "2024-08-09T02:28:41.820Z"
   },
   {
    "duration": 1401,
    "start_time": "2024-08-09T02:28:41.845Z"
   },
   {
    "duration": 9,
    "start_time": "2024-08-09T02:28:43.249Z"
   },
   {
    "duration": 9,
    "start_time": "2024-08-09T02:28:43.261Z"
   },
   {
    "duration": 38,
    "start_time": "2024-08-09T02:28:43.273Z"
   },
   {
    "duration": 7,
    "start_time": "2024-08-09T02:28:43.314Z"
   },
   {
    "duration": 39,
    "start_time": "2024-08-09T02:28:43.324Z"
   },
   {
    "duration": 44,
    "start_time": "2024-08-09T02:28:43.366Z"
   },
   {
    "duration": 27,
    "start_time": "2024-08-09T02:28:43.413Z"
   },
   {
    "duration": 12,
    "start_time": "2024-08-09T02:28:43.443Z"
   },
   {
    "duration": 107,
    "start_time": "2024-08-09T02:28:43.458Z"
   },
   {
    "duration": 5,
    "start_time": "2024-08-09T02:28:43.573Z"
   },
   {
    "duration": 65,
    "start_time": "2024-08-09T02:28:43.582Z"
   },
   {
    "duration": 18,
    "start_time": "2024-08-09T02:28:43.651Z"
   },
   {
    "duration": 37,
    "start_time": "2024-08-09T02:28:43.672Z"
   },
   {
    "duration": 47,
    "start_time": "2024-08-09T02:28:43.712Z"
   },
   {
    "duration": 108,
    "start_time": "2024-08-09T02:28:43.762Z"
   },
   {
    "duration": 271,
    "start_time": "2024-08-09T02:28:43.873Z"
   },
   {
    "duration": 98,
    "start_time": "2024-08-09T02:28:44.148Z"
   },
   {
    "duration": 260,
    "start_time": "2024-08-09T02:28:44.249Z"
   },
   {
    "duration": 78,
    "start_time": "2024-08-09T02:28:44.512Z"
   },
   {
    "duration": 63,
    "start_time": "2024-08-09T02:29:25.639Z"
   },
   {
    "duration": 46,
    "start_time": "2024-08-09T02:30:33.438Z"
   },
   {
    "duration": 55,
    "start_time": "2024-08-09T02:32:22.114Z"
   },
   {
    "duration": 41,
    "start_time": "2024-08-09T02:33:40.662Z"
   },
   {
    "duration": 32,
    "start_time": "2024-08-09T02:34:47.255Z"
   },
   {
    "duration": 1270,
    "start_time": "2024-08-09T02:35:02.200Z"
   },
   {
    "duration": 180,
    "start_time": "2024-08-09T02:35:03.474Z"
   },
   {
    "duration": 25,
    "start_time": "2024-08-09T02:35:03.657Z"
   },
   {
    "duration": 28,
    "start_time": "2024-08-09T02:35:03.685Z"
   },
   {
    "duration": 15,
    "start_time": "2024-08-09T02:35:03.716Z"
   },
   {
    "duration": 27,
    "start_time": "2024-08-09T02:35:03.734Z"
   },
   {
    "duration": 46,
    "start_time": "2024-08-09T02:35:03.764Z"
   },
   {
    "duration": 48,
    "start_time": "2024-08-09T02:35:03.814Z"
   },
   {
    "duration": 57,
    "start_time": "2024-08-09T02:35:03.865Z"
   },
   {
    "duration": 91,
    "start_time": "2024-08-09T02:35:03.929Z"
   },
   {
    "duration": 28,
    "start_time": "2024-08-09T02:35:04.023Z"
   },
   {
    "duration": 6,
    "start_time": "2024-08-09T02:35:04.054Z"
   },
   {
    "duration": 10,
    "start_time": "2024-08-09T02:35:04.063Z"
   },
   {
    "duration": 12,
    "start_time": "2024-08-09T02:35:04.109Z"
   },
   {
    "duration": 9,
    "start_time": "2024-08-09T02:35:04.124Z"
   },
   {
    "duration": 1424,
    "start_time": "2024-08-09T02:35:04.136Z"
   },
   {
    "duration": 22,
    "start_time": "2024-08-09T02:35:05.562Z"
   },
   {
    "duration": 1348,
    "start_time": "2024-08-09T02:35:05.609Z"
   },
   {
    "duration": 11,
    "start_time": "2024-08-09T02:35:06.959Z"
   },
   {
    "duration": 9,
    "start_time": "2024-08-09T02:35:06.972Z"
   },
   {
    "duration": 6,
    "start_time": "2024-08-09T02:35:07.010Z"
   },
   {
    "duration": 8,
    "start_time": "2024-08-09T02:35:07.019Z"
   },
   {
    "duration": 38,
    "start_time": "2024-08-09T02:35:07.032Z"
   },
   {
    "duration": 44,
    "start_time": "2024-08-09T02:35:07.073Z"
   },
   {
    "duration": 27,
    "start_time": "2024-08-09T02:35:07.121Z"
   },
   {
    "duration": 12,
    "start_time": "2024-08-09T02:35:07.151Z"
   },
   {
    "duration": 106,
    "start_time": "2024-08-09T02:35:07.166Z"
   },
   {
    "duration": 5,
    "start_time": "2024-08-09T02:35:07.280Z"
   },
   {
    "duration": 42,
    "start_time": "2024-08-09T02:35:07.308Z"
   },
   {
    "duration": 29,
    "start_time": "2024-08-09T02:35:07.353Z"
   },
   {
    "duration": 34,
    "start_time": "2024-08-09T02:35:07.386Z"
   },
   {
    "duration": 51,
    "start_time": "2024-08-09T02:35:07.423Z"
   },
   {
    "duration": 111,
    "start_time": "2024-08-09T02:35:07.477Z"
   },
   {
    "duration": 272,
    "start_time": "2024-08-09T02:35:07.590Z"
   },
   {
    "duration": 99,
    "start_time": "2024-08-09T02:35:07.865Z"
   },
   {
    "duration": 256,
    "start_time": "2024-08-09T02:35:07.969Z"
   },
   {
    "duration": 80,
    "start_time": "2024-08-09T02:35:08.228Z"
   },
   {
    "duration": 46,
    "start_time": "2024-08-09T02:35:08.311Z"
   },
   {
    "duration": 61,
    "start_time": "2024-08-09T02:35:08.359Z"
   },
   {
    "duration": 43,
    "start_time": "2024-08-09T02:35:08.424Z"
   },
   {
    "duration": 60,
    "start_time": "2024-08-09T02:35:08.470Z"
   },
   {
    "duration": 15,
    "start_time": "2024-08-09T02:46:13.054Z"
   },
   {
    "duration": 14,
    "start_time": "2024-08-09T02:49:10.216Z"
   },
   {
    "duration": 14,
    "start_time": "2024-08-09T02:49:24.077Z"
   },
   {
    "duration": 1228,
    "start_time": "2024-08-09T02:59:50.531Z"
   },
   {
    "duration": 184,
    "start_time": "2024-08-09T02:59:51.762Z"
   },
   {
    "duration": 27,
    "start_time": "2024-08-09T02:59:51.949Z"
   },
   {
    "duration": 30,
    "start_time": "2024-08-09T02:59:51.980Z"
   },
   {
    "duration": 14,
    "start_time": "2024-08-09T02:59:52.013Z"
   },
   {
    "duration": 28,
    "start_time": "2024-08-09T02:59:52.030Z"
   },
   {
    "duration": 48,
    "start_time": "2024-08-09T02:59:52.061Z"
   },
   {
    "duration": 49,
    "start_time": "2024-08-09T02:59:52.112Z"
   },
   {
    "duration": 58,
    "start_time": "2024-08-09T02:59:52.163Z"
   },
   {
    "duration": 91,
    "start_time": "2024-08-09T02:59:52.227Z"
   },
   {
    "duration": 29,
    "start_time": "2024-08-09T02:59:52.320Z"
   },
   {
    "duration": 5,
    "start_time": "2024-08-09T02:59:52.353Z"
   },
   {
    "duration": 10,
    "start_time": "2024-08-09T02:59:52.361Z"
   },
   {
    "duration": 12,
    "start_time": "2024-08-09T02:59:52.408Z"
   },
   {
    "duration": 8,
    "start_time": "2024-08-09T02:59:52.423Z"
   },
   {
    "duration": 1365,
    "start_time": "2024-08-09T02:59:52.433Z"
   },
   {
    "duration": 25,
    "start_time": "2024-08-09T02:59:53.801Z"
   },
   {
    "duration": 1413,
    "start_time": "2024-08-09T02:59:53.829Z"
   },
   {
    "duration": 10,
    "start_time": "2024-08-09T02:59:55.247Z"
   },
   {
    "duration": 13,
    "start_time": "2024-08-09T02:59:55.260Z"
   },
   {
    "duration": 33,
    "start_time": "2024-08-09T02:59:55.276Z"
   },
   {
    "duration": 9,
    "start_time": "2024-08-09T02:59:55.313Z"
   },
   {
    "duration": 37,
    "start_time": "2024-08-09T02:59:55.325Z"
   },
   {
    "duration": 47,
    "start_time": "2024-08-09T02:59:55.365Z"
   },
   {
    "duration": 28,
    "start_time": "2024-08-09T02:59:55.415Z"
   },
   {
    "duration": 12,
    "start_time": "2024-08-09T02:59:55.445Z"
   },
   {
    "duration": 108,
    "start_time": "2024-08-09T02:59:55.460Z"
   },
   {
    "duration": 5,
    "start_time": "2024-08-09T02:59:55.575Z"
   },
   {
    "duration": 62,
    "start_time": "2024-08-09T02:59:55.584Z"
   },
   {
    "duration": 18,
    "start_time": "2024-08-09T02:59:55.650Z"
   },
   {
    "duration": 37,
    "start_time": "2024-08-09T02:59:55.671Z"
   },
   {
    "duration": 47,
    "start_time": "2024-08-09T02:59:55.711Z"
   },
   {
    "duration": 107,
    "start_time": "2024-08-09T02:59:55.761Z"
   },
   {
    "duration": 260,
    "start_time": "2024-08-09T02:59:55.871Z"
   },
   {
    "duration": 104,
    "start_time": "2024-08-09T02:59:56.134Z"
   },
   {
    "duration": 261,
    "start_time": "2024-08-09T02:59:56.241Z"
   },
   {
    "duration": 69,
    "start_time": "2024-08-09T02:59:56.504Z"
   },
   {
    "duration": 65,
    "start_time": "2024-08-09T02:59:56.576Z"
   },
   {
    "duration": 65,
    "start_time": "2024-08-09T02:59:56.644Z"
   },
   {
    "duration": 42,
    "start_time": "2024-08-09T02:59:56.712Z"
   },
   {
    "duration": 55,
    "start_time": "2024-08-09T02:59:56.758Z"
   },
   {
    "duration": 15,
    "start_time": "2024-08-09T02:59:56.816Z"
   },
   {
    "duration": 5253,
    "start_time": "2024-08-09T20:49:24.386Z"
   },
   {
    "duration": 240,
    "start_time": "2024-08-09T20:49:29.644Z"
   },
   {
    "duration": 28,
    "start_time": "2024-08-09T20:49:29.887Z"
   },
   {
    "duration": 14,
    "start_time": "2024-08-09T20:49:29.920Z"
   },
   {
    "duration": 16,
    "start_time": "2024-08-09T20:49:29.937Z"
   },
   {
    "duration": 80,
    "start_time": "2024-08-09T20:49:29.956Z"
   },
   {
    "duration": 6,
    "start_time": "2024-08-09T20:49:30.039Z"
   },
   {
    "duration": 67,
    "start_time": "2024-08-09T20:49:30.048Z"
   },
   {
    "duration": 41,
    "start_time": "2024-08-09T20:49:30.118Z"
   },
   {
    "duration": 111,
    "start_time": "2024-08-09T20:49:30.165Z"
   },
   {
    "duration": 54,
    "start_time": "2024-08-09T20:49:30.280Z"
   },
   {
    "duration": 5,
    "start_time": "2024-08-09T20:49:30.337Z"
   },
   {
    "duration": 10,
    "start_time": "2024-08-09T20:49:30.346Z"
   },
   {
    "duration": 12,
    "start_time": "2024-08-09T20:49:30.359Z"
   },
   {
    "duration": 42,
    "start_time": "2024-08-09T20:49:30.374Z"
   },
   {
    "duration": 1456,
    "start_time": "2024-08-09T20:49:30.418Z"
   },
   {
    "duration": 43,
    "start_time": "2024-08-09T20:49:31.877Z"
   },
   {
    "duration": 1392,
    "start_time": "2024-08-09T20:49:31.924Z"
   },
   {
    "duration": 9,
    "start_time": "2024-08-09T20:49:33.320Z"
   },
   {
    "duration": 10,
    "start_time": "2024-08-09T20:49:33.333Z"
   },
   {
    "duration": 7,
    "start_time": "2024-08-09T20:49:33.346Z"
   },
   {
    "duration": 7,
    "start_time": "2024-08-09T20:49:33.357Z"
   },
   {
    "duration": 47,
    "start_time": "2024-08-09T20:49:33.403Z"
   },
   {
    "duration": 14,
    "start_time": "2024-08-09T20:49:33.453Z"
   },
   {
    "duration": 58,
    "start_time": "2024-08-09T20:49:33.471Z"
   },
   {
    "duration": 14,
    "start_time": "2024-08-09T20:49:33.532Z"
   },
   {
    "duration": 106,
    "start_time": "2024-08-09T20:49:33.549Z"
   },
   {
    "duration": 5,
    "start_time": "2024-08-09T20:49:33.663Z"
   },
   {
    "duration": 61,
    "start_time": "2024-08-09T20:49:33.671Z"
   },
   {
    "duration": 23,
    "start_time": "2024-08-09T20:49:33.735Z"
   },
   {
    "duration": 54,
    "start_time": "2024-08-09T20:49:33.762Z"
   },
   {
    "duration": 47,
    "start_time": "2024-08-09T20:49:33.831Z"
   },
   {
    "duration": 93,
    "start_time": "2024-08-09T20:49:33.881Z"
   },
   {
    "duration": 282,
    "start_time": "2024-08-09T20:49:33.978Z"
   },
   {
    "duration": 102,
    "start_time": "2024-08-09T20:49:34.263Z"
   },
   {
    "duration": 291,
    "start_time": "2024-08-09T20:49:34.368Z"
   },
   {
    "duration": 85,
    "start_time": "2024-08-09T20:49:34.665Z"
   },
   {
    "duration": 64,
    "start_time": "2024-08-09T20:49:34.754Z"
   },
   {
    "duration": 51,
    "start_time": "2024-08-09T20:49:34.821Z"
   },
   {
    "duration": 59,
    "start_time": "2024-08-09T20:49:34.876Z"
   },
   {
    "duration": 38,
    "start_time": "2024-08-09T20:49:34.938Z"
   },
   {
    "duration": 34,
    "start_time": "2024-08-09T20:49:34.979Z"
   },
   {
    "duration": 1405,
    "start_time": "2024-08-09T20:56:15.576Z"
   },
   {
    "duration": 207,
    "start_time": "2024-08-09T20:56:16.986Z"
   },
   {
    "duration": 34,
    "start_time": "2024-08-09T20:56:17.195Z"
   },
   {
    "duration": 15,
    "start_time": "2024-08-09T20:56:17.233Z"
   },
   {
    "duration": 17,
    "start_time": "2024-08-09T20:56:17.251Z"
   },
   {
    "duration": 72,
    "start_time": "2024-08-09T20:56:17.271Z"
   },
   {
    "duration": 7,
    "start_time": "2024-08-09T20:56:17.346Z"
   },
   {
    "duration": 75,
    "start_time": "2024-08-09T20:56:17.357Z"
   },
   {
    "duration": 38,
    "start_time": "2024-08-09T20:56:17.435Z"
   },
   {
    "duration": 102,
    "start_time": "2024-08-09T20:56:17.481Z"
   },
   {
    "duration": 55,
    "start_time": "2024-08-09T20:56:17.587Z"
   },
   {
    "duration": 5,
    "start_time": "2024-08-09T20:56:17.645Z"
   },
   {
    "duration": 11,
    "start_time": "2024-08-09T20:56:17.653Z"
   },
   {
    "duration": 49,
    "start_time": "2024-08-09T20:56:17.667Z"
   },
   {
    "duration": 8,
    "start_time": "2024-08-09T20:56:17.730Z"
   },
   {
    "duration": 1444,
    "start_time": "2024-08-09T20:56:17.742Z"
   },
   {
    "duration": 28,
    "start_time": "2024-08-09T20:56:19.189Z"
   },
   {
    "duration": 1492,
    "start_time": "2024-08-09T20:56:19.223Z"
   },
   {
    "duration": 17,
    "start_time": "2024-08-09T20:56:20.718Z"
   },
   {
    "duration": 9,
    "start_time": "2024-08-09T20:56:20.739Z"
   },
   {
    "duration": 6,
    "start_time": "2024-08-09T20:56:20.751Z"
   },
   {
    "duration": 7,
    "start_time": "2024-08-09T20:56:20.761Z"
   },
   {
    "duration": 43,
    "start_time": "2024-08-09T20:56:20.809Z"
   },
   {
    "duration": 12,
    "start_time": "2024-08-09T20:56:20.855Z"
   },
   {
    "duration": 61,
    "start_time": "2024-08-09T20:56:20.870Z"
   },
   {
    "duration": 12,
    "start_time": "2024-08-09T20:56:20.934Z"
   },
   {
    "duration": 95,
    "start_time": "2024-08-09T20:56:20.950Z"
   },
   {
    "duration": 5,
    "start_time": "2024-08-09T20:56:21.052Z"
   },
   {
    "duration": 76,
    "start_time": "2024-08-09T20:56:21.060Z"
   },
   {
    "duration": 22,
    "start_time": "2024-08-09T20:56:21.138Z"
   },
   {
    "duration": 12,
    "start_time": "2024-08-09T20:56:21.163Z"
   },
   {
    "duration": 72,
    "start_time": "2024-08-09T20:56:21.179Z"
   },
   {
    "duration": 113,
    "start_time": "2024-08-09T20:56:21.254Z"
   },
   {
    "duration": 290,
    "start_time": "2024-08-09T20:56:21.371Z"
   },
   {
    "duration": 111,
    "start_time": "2024-08-09T20:56:21.664Z"
   },
   {
    "duration": 293,
    "start_time": "2024-08-09T20:56:21.778Z"
   },
   {
    "duration": 82,
    "start_time": "2024-08-09T20:56:22.074Z"
   },
   {
    "duration": 69,
    "start_time": "2024-08-09T20:56:22.160Z"
   },
   {
    "duration": 49,
    "start_time": "2024-08-09T20:56:22.231Z"
   },
   {
    "duration": 74,
    "start_time": "2024-08-09T20:56:22.283Z"
   },
   {
    "duration": 56,
    "start_time": "2024-08-09T20:56:22.360Z"
   },
   {
    "duration": 15,
    "start_time": "2024-08-09T20:56:22.431Z"
   },
   {
    "duration": 303,
    "start_time": "2024-08-14T20:40:40.688Z"
   },
   {
    "duration": 4820,
    "start_time": "2024-08-14T20:40:52.209Z"
   },
   {
    "duration": 240,
    "start_time": "2024-08-14T20:40:57.035Z"
   },
   {
    "duration": 26,
    "start_time": "2024-08-14T20:40:57.278Z"
   },
   {
    "duration": 30,
    "start_time": "2024-08-14T20:40:57.309Z"
   },
   {
    "duration": 14,
    "start_time": "2024-08-14T20:40:57.342Z"
   },
   {
    "duration": 30,
    "start_time": "2024-08-14T20:40:57.359Z"
   },
   {
    "duration": 41,
    "start_time": "2024-08-14T20:40:57.392Z"
   },
   {
    "duration": 53,
    "start_time": "2024-08-14T20:40:57.437Z"
   },
   {
    "duration": 61,
    "start_time": "2024-08-14T20:40:57.493Z"
   },
   {
    "duration": 91,
    "start_time": "2024-08-14T20:40:57.561Z"
   },
   {
    "duration": 29,
    "start_time": "2024-08-14T20:40:57.655Z"
   },
   {
    "duration": 5,
    "start_time": "2024-08-14T20:40:57.689Z"
   },
   {
    "duration": 36,
    "start_time": "2024-08-14T20:40:57.698Z"
   },
   {
    "duration": 14,
    "start_time": "2024-08-14T20:40:57.736Z"
   },
   {
    "duration": 7,
    "start_time": "2024-08-14T20:40:57.753Z"
   },
   {
    "duration": 1401,
    "start_time": "2024-08-14T20:40:57.763Z"
   },
   {
    "duration": 22,
    "start_time": "2024-08-14T20:40:59.168Z"
   },
   {
    "duration": 1394,
    "start_time": "2024-08-14T20:40:59.192Z"
   },
   {
    "duration": 9,
    "start_time": "2024-08-14T20:41:00.590Z"
   },
   {
    "duration": 9,
    "start_time": "2024-08-14T20:41:00.602Z"
   },
   {
    "duration": 6,
    "start_time": "2024-08-14T20:41:00.633Z"
   },
   {
    "duration": 6,
    "start_time": "2024-08-14T20:41:00.643Z"
   },
   {
    "duration": 38,
    "start_time": "2024-08-14T20:41:00.652Z"
   },
   {
    "duration": 49,
    "start_time": "2024-08-14T20:41:00.692Z"
   },
   {
    "duration": 11,
    "start_time": "2024-08-14T20:41:00.744Z"
   },
   {
    "duration": 29,
    "start_time": "2024-08-14T20:41:00.758Z"
   },
   {
    "duration": 49,
    "start_time": "2024-08-14T20:41:00.790Z"
   },
   {
    "duration": 90,
    "start_time": "2024-08-14T20:41:00.846Z"
   },
   {
    "duration": 6,
    "start_time": "2024-08-14T20:41:00.939Z"
   },
   {
    "duration": 38,
    "start_time": "2024-08-14T20:41:00.948Z"
   },
   {
    "duration": 51,
    "start_time": "2024-08-14T20:41:00.989Z"
   },
   {
    "duration": 11,
    "start_time": "2024-08-14T20:41:01.043Z"
   },
   {
    "duration": 76,
    "start_time": "2024-08-14T20:41:01.058Z"
   },
   {
    "duration": 100,
    "start_time": "2024-08-14T20:41:01.137Z"
   },
   {
    "duration": 285,
    "start_time": "2024-08-14T20:41:01.240Z"
   },
   {
    "duration": 111,
    "start_time": "2024-08-14T20:41:01.531Z"
   },
   {
    "duration": 264,
    "start_time": "2024-08-14T20:41:01.645Z"
   },
   {
    "duration": 72,
    "start_time": "2024-08-14T20:41:01.912Z"
   },
   {
    "duration": 60,
    "start_time": "2024-08-14T20:41:01.987Z"
   },
   {
    "duration": 46,
    "start_time": "2024-08-14T20:41:02.051Z"
   },
   {
    "duration": 67,
    "start_time": "2024-08-14T20:41:02.101Z"
   },
   {
    "duration": 34,
    "start_time": "2024-08-14T20:41:02.171Z"
   },
   {
    "duration": 16,
    "start_time": "2024-08-14T20:41:02.233Z"
   },
   {
    "duration": 43,
    "start_time": "2024-08-14T20:42:45.800Z"
   },
   {
    "duration": 41,
    "start_time": "2024-08-14T20:43:02.922Z"
   },
   {
    "duration": 42,
    "start_time": "2024-08-14T20:43:36.589Z"
   },
   {
    "duration": 553,
    "start_time": "2024-08-14T20:44:59.868Z"
   },
   {
    "duration": 36,
    "start_time": "2024-08-14T20:45:48.383Z"
   },
   {
    "duration": 398,
    "start_time": "2024-08-14T20:45:48.941Z"
   },
   {
    "duration": 37,
    "start_time": "2024-08-14T20:45:58.469Z"
   },
   {
    "duration": 28,
    "start_time": "2024-08-14T20:46:00.834Z"
   },
   {
    "duration": 547,
    "start_time": "2024-08-14T20:46:34.357Z"
   },
   {
    "duration": 8,
    "start_time": "2024-08-14T20:46:58.044Z"
   },
   {
    "duration": 30,
    "start_time": "2024-08-14T20:47:18.029Z"
   },
   {
    "duration": 27,
    "start_time": "2024-08-14T20:47:41.747Z"
   },
   {
    "duration": 6,
    "start_time": "2024-08-14T20:47:53.488Z"
   },
   {
    "duration": 26,
    "start_time": "2024-08-14T20:48:07.827Z"
   },
   {
    "duration": 37,
    "start_time": "2024-08-14T20:48:32.084Z"
   },
   {
    "duration": 29,
    "start_time": "2024-08-14T20:49:06.394Z"
   },
   {
    "duration": 7,
    "start_time": "2024-08-14T20:49:44.581Z"
   },
   {
    "duration": 36,
    "start_time": "2024-08-14T20:49:48.993Z"
   },
   {
    "duration": 6,
    "start_time": "2024-08-14T20:49:50.448Z"
   },
   {
    "duration": 29,
    "start_time": "2024-08-14T20:49:59.809Z"
   },
   {
    "duration": 55,
    "start_time": "2024-08-14T20:50:44.947Z"
   },
   {
    "duration": 39,
    "start_time": "2024-08-14T20:51:02.087Z"
   },
   {
    "duration": 37,
    "start_time": "2024-08-14T20:51:35.954Z"
   },
   {
    "duration": 53,
    "start_time": "2024-08-14T20:51:57.162Z"
   },
   {
    "duration": 38,
    "start_time": "2024-08-14T20:53:07.473Z"
   },
   {
    "duration": 560,
    "start_time": "2024-08-14T20:54:54.825Z"
   },
   {
    "duration": 555,
    "start_time": "2024-08-14T20:55:19.669Z"
   },
   {
    "duration": 581,
    "start_time": "2024-08-14T20:55:31.938Z"
   },
   {
    "duration": 482,
    "start_time": "2024-08-14T20:57:11.790Z"
   },
   {
    "duration": 467,
    "start_time": "2024-08-14T20:57:28.368Z"
   },
   {
    "duration": 539,
    "start_time": "2024-08-14T20:57:43.263Z"
   },
   {
    "duration": 546,
    "start_time": "2024-08-14T20:57:54.221Z"
   },
   {
    "duration": 582,
    "start_time": "2024-08-14T21:03:14.898Z"
   },
   {
    "duration": 567,
    "start_time": "2024-08-14T21:05:15.722Z"
   },
   {
    "duration": 681,
    "start_time": "2024-08-14T21:06:35.435Z"
   },
   {
    "duration": 685,
    "start_time": "2024-08-14T21:07:11.816Z"
   },
   {
    "duration": 470,
    "start_time": "2024-08-14T21:08:07.073Z"
   },
   {
    "duration": 490,
    "start_time": "2024-08-14T21:08:32.937Z"
   },
   {
    "duration": 501,
    "start_time": "2024-08-14T21:18:50.631Z"
   },
   {
    "duration": 1263,
    "start_time": "2024-08-14T21:21:39.344Z"
   },
   {
    "duration": 181,
    "start_time": "2024-08-14T21:21:40.610Z"
   },
   {
    "duration": 24,
    "start_time": "2024-08-14T21:21:40.794Z"
   },
   {
    "duration": 14,
    "start_time": "2024-08-14T21:21:40.834Z"
   },
   {
    "duration": 14,
    "start_time": "2024-08-14T21:21:40.851Z"
   },
   {
    "duration": 28,
    "start_time": "2024-08-14T21:21:40.868Z"
   },
   {
    "duration": 6,
    "start_time": "2024-08-14T21:21:40.934Z"
   },
   {
    "duration": 52,
    "start_time": "2024-08-14T21:21:40.943Z"
   },
   {
    "duration": 66,
    "start_time": "2024-08-14T21:21:40.998Z"
   },
   {
    "duration": 91,
    "start_time": "2024-08-14T21:21:41.070Z"
   },
   {
    "duration": 30,
    "start_time": "2024-08-14T21:21:41.164Z"
   },
   {
    "duration": 5,
    "start_time": "2024-08-14T21:21:41.197Z"
   },
   {
    "duration": 35,
    "start_time": "2024-08-14T21:21:41.205Z"
   },
   {
    "duration": 13,
    "start_time": "2024-08-14T21:21:41.243Z"
   },
   {
    "duration": 8,
    "start_time": "2024-08-14T21:21:41.259Z"
   },
   {
    "duration": 1442,
    "start_time": "2024-08-14T21:21:41.270Z"
   },
   {
    "duration": 34,
    "start_time": "2024-08-14T21:21:42.715Z"
   },
   {
    "duration": 1381,
    "start_time": "2024-08-14T21:21:42.752Z"
   },
   {
    "duration": 10,
    "start_time": "2024-08-14T21:21:44.137Z"
   },
   {
    "duration": 10,
    "start_time": "2024-08-14T21:21:44.150Z"
   },
   {
    "duration": 7,
    "start_time": "2024-08-14T21:21:44.163Z"
   },
   {
    "duration": 6,
    "start_time": "2024-08-14T21:21:44.173Z"
   },
   {
    "duration": 83,
    "start_time": "2024-08-14T21:21:44.182Z"
   },
   {
    "duration": 551,
    "start_time": "2024-08-14T21:21:44.268Z"
   },
   {
    "duration": 15,
    "start_time": "2024-08-14T21:21:44.823Z"
   },
   {
    "duration": 27,
    "start_time": "2024-08-14T21:21:44.841Z"
   },
   {
    "duration": 13,
    "start_time": "2024-08-14T21:21:44.871Z"
   },
   {
    "duration": 106,
    "start_time": "2024-08-14T21:21:44.892Z"
   },
   {
    "duration": 5,
    "start_time": "2024-08-14T21:21:45.003Z"
   },
   {
    "duration": 55,
    "start_time": "2024-08-14T21:21:45.011Z"
   },
   {
    "duration": 18,
    "start_time": "2024-08-14T21:21:45.069Z"
   },
   {
    "duration": 43,
    "start_time": "2024-08-14T21:21:45.090Z"
   },
   {
    "duration": 45,
    "start_time": "2024-08-14T21:21:45.136Z"
   },
   {
    "duration": 613,
    "start_time": "2024-08-14T21:21:45.184Z"
   },
   {
    "duration": 84,
    "start_time": "2024-08-14T21:21:45.800Z"
   },
   {
    "duration": 246,
    "start_time": "2024-08-14T21:21:45.887Z"
   },
   {
    "duration": 83,
    "start_time": "2024-08-14T21:21:46.136Z"
   },
   {
    "duration": 252,
    "start_time": "2024-08-14T21:21:46.234Z"
   },
   {
    "duration": 75,
    "start_time": "2024-08-14T21:21:46.489Z"
   },
   {
    "duration": 47,
    "start_time": "2024-08-14T21:21:46.567Z"
   },
   {
    "duration": 44,
    "start_time": "2024-08-14T21:21:46.633Z"
   },
   {
    "duration": 71,
    "start_time": "2024-08-14T21:21:46.680Z"
   },
   {
    "duration": 37,
    "start_time": "2024-08-14T21:21:46.754Z"
   },
   {
    "duration": 39,
    "start_time": "2024-08-14T21:21:46.794Z"
   },
   {
    "duration": 685,
    "start_time": "2024-08-14T21:35:20.432Z"
   },
   {
    "duration": 540,
    "start_time": "2024-08-14T21:37:35.627Z"
   },
   {
    "duration": 83,
    "start_time": "2024-08-14T21:37:53.097Z"
   },
   {
    "duration": 8,
    "start_time": "2024-08-14T21:38:43.230Z"
   },
   {
    "duration": 87,
    "start_time": "2024-08-14T21:38:50.786Z"
   },
   {
    "duration": 8,
    "start_time": "2024-08-14T21:39:15.744Z"
   },
   {
    "duration": 274,
    "start_time": "2024-08-14T21:39:27.522Z"
   },
   {
    "duration": 708,
    "start_time": "2024-08-14T21:40:41.560Z"
   },
   {
    "duration": 1221,
    "start_time": "2024-08-14T21:41:02.486Z"
   },
   {
    "duration": 179,
    "start_time": "2024-08-14T21:41:03.711Z"
   },
   {
    "duration": 25,
    "start_time": "2024-08-14T21:41:03.893Z"
   },
   {
    "duration": 12,
    "start_time": "2024-08-14T21:41:03.935Z"
   },
   {
    "duration": 14,
    "start_time": "2024-08-14T21:41:03.950Z"
   },
   {
    "duration": 27,
    "start_time": "2024-08-14T21:41:03.967Z"
   },
   {
    "duration": 39,
    "start_time": "2024-08-14T21:41:03.996Z"
   },
   {
    "duration": 48,
    "start_time": "2024-08-14T21:41:04.039Z"
   },
   {
    "duration": 66,
    "start_time": "2024-08-14T21:41:04.090Z"
   },
   {
    "duration": 91,
    "start_time": "2024-08-14T21:41:04.161Z"
   },
   {
    "duration": 29,
    "start_time": "2024-08-14T21:41:04.255Z"
   },
   {
    "duration": 5,
    "start_time": "2024-08-14T21:41:04.288Z"
   },
   {
    "duration": 42,
    "start_time": "2024-08-14T21:41:04.296Z"
   },
   {
    "duration": 15,
    "start_time": "2024-08-14T21:41:04.343Z"
   },
   {
    "duration": 9,
    "start_time": "2024-08-14T21:41:04.362Z"
   },
   {
    "duration": 1393,
    "start_time": "2024-08-14T21:41:04.374Z"
   },
   {
    "duration": 23,
    "start_time": "2024-08-14T21:41:05.770Z"
   },
   {
    "duration": 1420,
    "start_time": "2024-08-14T21:41:05.796Z"
   },
   {
    "duration": 20,
    "start_time": "2024-08-14T21:41:07.219Z"
   },
   {
    "duration": 9,
    "start_time": "2024-08-14T21:41:07.242Z"
   },
   {
    "duration": 6,
    "start_time": "2024-08-14T21:41:07.255Z"
   },
   {
    "duration": 7,
    "start_time": "2024-08-14T21:41:07.265Z"
   },
   {
    "duration": 81,
    "start_time": "2024-08-14T21:41:07.275Z"
   },
   {
    "duration": 557,
    "start_time": "2024-08-14T21:41:07.359Z"
   },
   {
    "duration": 19,
    "start_time": "2024-08-14T21:41:07.920Z"
   },
   {
    "duration": 26,
    "start_time": "2024-08-14T21:41:07.943Z"
   },
   {
    "duration": 12,
    "start_time": "2024-08-14T21:41:07.973Z"
   },
   {
    "duration": 105,
    "start_time": "2024-08-14T21:41:07.994Z"
   },
   {
    "duration": 5,
    "start_time": "2024-08-14T21:41:08.102Z"
   },
   {
    "duration": 38,
    "start_time": "2024-08-14T21:41:08.132Z"
   },
   {
    "duration": 19,
    "start_time": "2024-08-14T21:41:08.173Z"
   },
   {
    "duration": 40,
    "start_time": "2024-08-14T21:41:08.195Z"
   },
   {
    "duration": 44,
    "start_time": "2024-08-14T21:41:08.241Z"
   },
   {
    "duration": 603,
    "start_time": "2024-08-14T21:41:08.288Z"
   },
   {
    "duration": 82,
    "start_time": "2024-08-14T21:41:08.894Z"
   },
   {
    "duration": 253,
    "start_time": "2024-08-14T21:41:08.979Z"
   },
   {
    "duration": 715,
    "start_time": "2024-08-14T21:41:09.235Z"
   },
   {
    "duration": 0,
    "start_time": "2024-08-14T21:41:09.953Z"
   },
   {
    "duration": 0,
    "start_time": "2024-08-14T21:41:09.956Z"
   },
   {
    "duration": 0,
    "start_time": "2024-08-14T21:41:09.958Z"
   },
   {
    "duration": 0,
    "start_time": "2024-08-14T21:41:09.960Z"
   },
   {
    "duration": 0,
    "start_time": "2024-08-14T21:41:09.962Z"
   },
   {
    "duration": 0,
    "start_time": "2024-08-14T21:41:09.964Z"
   },
   {
    "duration": 0,
    "start_time": "2024-08-14T21:41:09.967Z"
   },
   {
    "duration": 0,
    "start_time": "2024-08-14T21:41:09.970Z"
   },
   {
    "duration": 7,
    "start_time": "2024-08-14T21:44:27.326Z"
   },
   {
    "duration": 7,
    "start_time": "2024-08-14T21:45:01.014Z"
   },
   {
    "duration": 300,
    "start_time": "2024-08-14T21:45:28.854Z"
   },
   {
    "duration": 1257,
    "start_time": "2024-08-14T21:45:57.627Z"
   },
   {
    "duration": 189,
    "start_time": "2024-08-14T21:45:58.887Z"
   },
   {
    "duration": 25,
    "start_time": "2024-08-14T21:45:59.079Z"
   },
   {
    "duration": 31,
    "start_time": "2024-08-14T21:45:59.109Z"
   },
   {
    "duration": 15,
    "start_time": "2024-08-14T21:45:59.143Z"
   },
   {
    "duration": 27,
    "start_time": "2024-08-14T21:45:59.161Z"
   },
   {
    "duration": 42,
    "start_time": "2024-08-14T21:45:59.191Z"
   },
   {
    "duration": 49,
    "start_time": "2024-08-14T21:45:59.236Z"
   },
   {
    "duration": 63,
    "start_time": "2024-08-14T21:45:59.288Z"
   },
   {
    "duration": 90,
    "start_time": "2024-08-14T21:45:59.356Z"
   },
   {
    "duration": 32,
    "start_time": "2024-08-14T21:45:59.450Z"
   },
   {
    "duration": 6,
    "start_time": "2024-08-14T21:45:59.485Z"
   },
   {
    "duration": 42,
    "start_time": "2024-08-14T21:45:59.494Z"
   },
   {
    "duration": 13,
    "start_time": "2024-08-14T21:45:59.539Z"
   },
   {
    "duration": 8,
    "start_time": "2024-08-14T21:45:59.555Z"
   },
   {
    "duration": 1388,
    "start_time": "2024-08-14T21:45:59.566Z"
   },
   {
    "duration": 22,
    "start_time": "2024-08-14T21:46:00.957Z"
   },
   {
    "duration": 1442,
    "start_time": "2024-08-14T21:46:00.981Z"
   },
   {
    "duration": 11,
    "start_time": "2024-08-14T21:46:02.434Z"
   },
   {
    "duration": 11,
    "start_time": "2024-08-14T21:46:02.448Z"
   },
   {
    "duration": 7,
    "start_time": "2024-08-14T21:46:02.462Z"
   },
   {
    "duration": 6,
    "start_time": "2024-08-14T21:46:02.473Z"
   },
   {
    "duration": 87,
    "start_time": "2024-08-14T21:46:02.482Z"
   },
   {
    "duration": 566,
    "start_time": "2024-08-14T21:46:02.572Z"
   },
   {
    "duration": 12,
    "start_time": "2024-08-14T21:46:03.140Z"
   },
   {
    "duration": 27,
    "start_time": "2024-08-14T21:46:03.155Z"
   },
   {
    "duration": 59,
    "start_time": "2024-08-14T21:46:03.185Z"
   },
   {
    "duration": 110,
    "start_time": "2024-08-14T21:46:03.252Z"
   },
   {
    "duration": 6,
    "start_time": "2024-08-14T21:46:03.365Z"
   },
   {
    "duration": 68,
    "start_time": "2024-08-14T21:46:03.375Z"
   },
   {
    "duration": 19,
    "start_time": "2024-08-14T21:46:03.445Z"
   },
   {
    "duration": 11,
    "start_time": "2024-08-14T21:46:03.467Z"
   },
   {
    "duration": 78,
    "start_time": "2024-08-14T21:46:03.482Z"
   },
   {
    "duration": 563,
    "start_time": "2024-08-14T21:46:03.562Z"
   },
   {
    "duration": 84,
    "start_time": "2024-08-14T21:46:04.129Z"
   },
   {
    "duration": 253,
    "start_time": "2024-08-14T21:46:04.216Z"
   },
   {
    "duration": 680,
    "start_time": "2024-08-14T21:46:04.471Z"
   },
   {
    "duration": 0,
    "start_time": "2024-08-14T21:46:05.154Z"
   },
   {
    "duration": 0,
    "start_time": "2024-08-14T21:46:05.156Z"
   },
   {
    "duration": 0,
    "start_time": "2024-08-14T21:46:05.158Z"
   },
   {
    "duration": 0,
    "start_time": "2024-08-14T21:46:05.160Z"
   },
   {
    "duration": 0,
    "start_time": "2024-08-14T21:46:05.162Z"
   },
   {
    "duration": 0,
    "start_time": "2024-08-14T21:46:05.163Z"
   },
   {
    "duration": 0,
    "start_time": "2024-08-14T21:46:05.165Z"
   },
   {
    "duration": 0,
    "start_time": "2024-08-14T21:46:05.167Z"
   },
   {
    "duration": 870,
    "start_time": "2024-08-14T21:47:56.643Z"
   },
   {
    "duration": 1262,
    "start_time": "2024-08-14T21:48:55.935Z"
   },
   {
    "duration": 182,
    "start_time": "2024-08-14T21:48:57.201Z"
   },
   {
    "duration": 28,
    "start_time": "2024-08-14T21:48:57.386Z"
   },
   {
    "duration": 26,
    "start_time": "2024-08-14T21:48:57.418Z"
   },
   {
    "duration": 13,
    "start_time": "2024-08-14T21:48:57.446Z"
   },
   {
    "duration": 29,
    "start_time": "2024-08-14T21:48:57.462Z"
   },
   {
    "duration": 5,
    "start_time": "2024-08-14T21:48:57.532Z"
   },
   {
    "duration": 49,
    "start_time": "2024-08-14T21:48:57.541Z"
   },
   {
    "duration": 62,
    "start_time": "2024-08-14T21:48:57.593Z"
   },
   {
    "duration": 96,
    "start_time": "2024-08-14T21:48:57.661Z"
   },
   {
    "duration": 30,
    "start_time": "2024-08-14T21:48:57.760Z"
   },
   {
    "duration": 5,
    "start_time": "2024-08-14T21:48:57.793Z"
   },
   {
    "duration": 36,
    "start_time": "2024-08-14T21:48:57.800Z"
   },
   {
    "duration": 12,
    "start_time": "2024-08-14T21:48:57.839Z"
   },
   {
    "duration": 8,
    "start_time": "2024-08-14T21:48:57.854Z"
   },
   {
    "duration": 1374,
    "start_time": "2024-08-14T21:48:57.864Z"
   },
   {
    "duration": 21,
    "start_time": "2024-08-14T21:48:59.241Z"
   },
   {
    "duration": 1379,
    "start_time": "2024-08-14T21:48:59.265Z"
   },
   {
    "duration": 12,
    "start_time": "2024-08-14T21:49:00.647Z"
   },
   {
    "duration": 10,
    "start_time": "2024-08-14T21:49:00.662Z"
   },
   {
    "duration": 6,
    "start_time": "2024-08-14T21:49:00.675Z"
   },
   {
    "duration": 49,
    "start_time": "2024-08-14T21:49:00.684Z"
   },
   {
    "duration": 38,
    "start_time": "2024-08-14T21:49:00.737Z"
   },
   {
    "duration": 573,
    "start_time": "2024-08-14T21:49:00.778Z"
   },
   {
    "duration": 13,
    "start_time": "2024-08-14T21:49:01.355Z"
   },
   {
    "duration": 29,
    "start_time": "2024-08-14T21:49:01.371Z"
   },
   {
    "duration": 40,
    "start_time": "2024-08-14T21:49:01.403Z"
   },
   {
    "duration": 94,
    "start_time": "2024-08-14T21:49:01.452Z"
   },
   {
    "duration": 6,
    "start_time": "2024-08-14T21:49:01.549Z"
   },
   {
    "duration": 41,
    "start_time": "2024-08-14T21:49:01.557Z"
   },
   {
    "duration": 25,
    "start_time": "2024-08-14T21:49:01.632Z"
   },
   {
    "duration": 13,
    "start_time": "2024-08-14T21:49:01.660Z"
   },
   {
    "duration": 75,
    "start_time": "2024-08-14T21:49:01.676Z"
   },
   {
    "duration": 547,
    "start_time": "2024-08-14T21:49:01.754Z"
   },
   {
    "duration": 86,
    "start_time": "2024-08-14T21:49:02.304Z"
   },
   {
    "duration": 255,
    "start_time": "2024-08-14T21:49:02.394Z"
   },
   {
    "duration": 1228,
    "start_time": "2024-08-14T21:49:02.653Z"
   },
   {
    "duration": 0,
    "start_time": "2024-08-14T21:49:03.884Z"
   },
   {
    "duration": 0,
    "start_time": "2024-08-14T21:49:03.886Z"
   },
   {
    "duration": 0,
    "start_time": "2024-08-14T21:49:03.888Z"
   },
   {
    "duration": 0,
    "start_time": "2024-08-14T21:49:03.890Z"
   },
   {
    "duration": 0,
    "start_time": "2024-08-14T21:49:03.892Z"
   },
   {
    "duration": 0,
    "start_time": "2024-08-14T21:49:03.894Z"
   },
   {
    "duration": 0,
    "start_time": "2024-08-14T21:49:03.896Z"
   },
   {
    "duration": 0,
    "start_time": "2024-08-14T21:49:03.898Z"
   },
   {
    "duration": 84,
    "start_time": "2024-08-14T21:54:12.440Z"
   },
   {
    "duration": 81,
    "start_time": "2024-08-14T21:54:32.092Z"
   },
   {
    "duration": 36,
    "start_time": "2024-08-14T21:55:13.691Z"
   },
   {
    "duration": 35,
    "start_time": "2024-08-14T21:55:26.298Z"
   },
   {
    "duration": 85,
    "start_time": "2024-08-14T21:55:48.958Z"
   },
   {
    "duration": 409,
    "start_time": "2024-08-14T22:01:03.986Z"
   },
   {
    "duration": 784,
    "start_time": "2024-08-14T22:06:07.798Z"
   },
   {
    "duration": 10,
    "start_time": "2024-08-14T22:06:49.100Z"
   },
   {
    "duration": 804,
    "start_time": "2024-08-14T22:07:14.379Z"
   },
   {
    "duration": 9,
    "start_time": "2024-08-14T22:08:03.615Z"
   },
   {
    "duration": 12,
    "start_time": "2024-08-14T22:08:22.428Z"
   },
   {
    "duration": 11,
    "start_time": "2024-08-14T22:09:09.883Z"
   },
   {
    "duration": 9,
    "start_time": "2024-08-14T22:09:23.618Z"
   },
   {
    "duration": 856,
    "start_time": "2024-08-14T22:10:33.856Z"
   },
   {
    "duration": 784,
    "start_time": "2024-08-14T22:11:56.282Z"
   },
   {
    "duration": 244,
    "start_time": "2024-08-14T22:12:21.478Z"
   },
   {
    "duration": 758,
    "start_time": "2024-08-14T22:13:24.039Z"
   },
   {
    "duration": 1271,
    "start_time": "2024-08-14T22:13:36.508Z"
   },
   {
    "duration": 184,
    "start_time": "2024-08-14T22:13:37.782Z"
   },
   {
    "duration": 25,
    "start_time": "2024-08-14T22:13:37.969Z"
   },
   {
    "duration": 38,
    "start_time": "2024-08-14T22:13:37.999Z"
   },
   {
    "duration": 15,
    "start_time": "2024-08-14T22:13:38.039Z"
   },
   {
    "duration": 27,
    "start_time": "2024-08-14T22:13:38.057Z"
   },
   {
    "duration": 6,
    "start_time": "2024-08-14T22:13:38.086Z"
   },
   {
    "duration": 85,
    "start_time": "2024-08-14T22:13:38.095Z"
   },
   {
    "duration": 56,
    "start_time": "2024-08-14T22:13:38.182Z"
   },
   {
    "duration": 92,
    "start_time": "2024-08-14T22:13:38.245Z"
   },
   {
    "duration": 29,
    "start_time": "2024-08-14T22:13:38.340Z"
   },
   {
    "duration": 5,
    "start_time": "2024-08-14T22:13:38.372Z"
   },
   {
    "duration": 12,
    "start_time": "2024-08-14T22:13:38.380Z"
   },
   {
    "duration": 47,
    "start_time": "2024-08-14T22:13:38.397Z"
   },
   {
    "duration": 9,
    "start_time": "2024-08-14T22:13:38.447Z"
   },
   {
    "duration": 1379,
    "start_time": "2024-08-14T22:13:38.459Z"
   },
   {
    "duration": 22,
    "start_time": "2024-08-14T22:13:39.841Z"
   },
   {
    "duration": 1375,
    "start_time": "2024-08-14T22:13:39.866Z"
   },
   {
    "duration": 10,
    "start_time": "2024-08-14T22:13:41.244Z"
   },
   {
    "duration": 9,
    "start_time": "2024-08-14T22:13:41.257Z"
   },
   {
    "duration": 7,
    "start_time": "2024-08-14T22:13:41.268Z"
   },
   {
    "duration": 8,
    "start_time": "2024-08-14T22:13:41.278Z"
   },
   {
    "duration": 44,
    "start_time": "2024-08-14T22:13:41.335Z"
   },
   {
    "duration": 571,
    "start_time": "2024-08-14T22:13:41.382Z"
   },
   {
    "duration": 12,
    "start_time": "2024-08-14T22:13:41.956Z"
   },
   {
    "duration": 28,
    "start_time": "2024-08-14T22:13:41.971Z"
   },
   {
    "duration": 40,
    "start_time": "2024-08-14T22:13:42.002Z"
   },
   {
    "duration": 92,
    "start_time": "2024-08-14T22:13:42.049Z"
   },
   {
    "duration": 6,
    "start_time": "2024-08-14T22:13:42.144Z"
   },
   {
    "duration": 39,
    "start_time": "2024-08-14T22:13:42.154Z"
   },
   {
    "duration": 50,
    "start_time": "2024-08-14T22:13:42.196Z"
   },
   {
    "duration": 11,
    "start_time": "2024-08-14T22:13:42.249Z"
   },
   {
    "duration": 75,
    "start_time": "2024-08-14T22:13:42.263Z"
   },
   {
    "duration": 559,
    "start_time": "2024-08-14T22:13:42.342Z"
   },
   {
    "duration": 83,
    "start_time": "2024-08-14T22:13:42.904Z"
   },
   {
    "duration": 258,
    "start_time": "2024-08-14T22:13:42.991Z"
   },
   {
    "duration": 822,
    "start_time": "2024-08-14T22:13:43.253Z"
   },
   {
    "duration": 101,
    "start_time": "2024-08-14T22:13:44.078Z"
   },
   {
    "duration": 259,
    "start_time": "2024-08-14T22:13:44.182Z"
   },
   {
    "duration": 813,
    "start_time": "2024-08-14T22:13:44.444Z"
   },
   {
    "duration": 76,
    "start_time": "2024-08-14T22:13:45.259Z"
   },
   {
    "duration": 46,
    "start_time": "2024-08-14T22:13:45.338Z"
   },
   {
    "duration": 62,
    "start_time": "2024-08-14T22:13:45.387Z"
   },
   {
    "duration": 41,
    "start_time": "2024-08-14T22:13:45.451Z"
   },
   {
    "duration": 56,
    "start_time": "2024-08-14T22:13:45.495Z"
   },
   {
    "duration": 14,
    "start_time": "2024-08-14T22:13:45.554Z"
   },
   {
    "duration": 1337,
    "start_time": "2024-08-14T22:19:40.949Z"
   },
   {
    "duration": 188,
    "start_time": "2024-08-14T22:19:42.289Z"
   },
   {
    "duration": 32,
    "start_time": "2024-08-14T22:19:42.480Z"
   },
   {
    "duration": 15,
    "start_time": "2024-08-14T22:19:42.532Z"
   },
   {
    "duration": 15,
    "start_time": "2024-08-14T22:19:42.550Z"
   },
   {
    "duration": 28,
    "start_time": "2024-08-14T22:19:42.568Z"
   },
   {
    "duration": 37,
    "start_time": "2024-08-14T22:19:42.598Z"
   },
   {
    "duration": 51,
    "start_time": "2024-08-14T22:19:42.639Z"
   },
   {
    "duration": 67,
    "start_time": "2024-08-14T22:19:42.692Z"
   },
   {
    "duration": 92,
    "start_time": "2024-08-14T22:19:42.764Z"
   },
   {
    "duration": 29,
    "start_time": "2024-08-14T22:19:42.859Z"
   },
   {
    "duration": 5,
    "start_time": "2024-08-14T22:19:42.891Z"
   },
   {
    "duration": 36,
    "start_time": "2024-08-14T22:19:42.898Z"
   },
   {
    "duration": 12,
    "start_time": "2024-08-14T22:19:42.937Z"
   },
   {
    "duration": 9,
    "start_time": "2024-08-14T22:19:42.951Z"
   },
   {
    "duration": 1414,
    "start_time": "2024-08-14T22:19:42.962Z"
   },
   {
    "duration": 25,
    "start_time": "2024-08-14T22:19:44.379Z"
   },
   {
    "duration": 1395,
    "start_time": "2024-08-14T22:19:44.407Z"
   },
   {
    "duration": 9,
    "start_time": "2024-08-14T22:19:45.805Z"
   },
   {
    "duration": 9,
    "start_time": "2024-08-14T22:19:45.832Z"
   },
   {
    "duration": 6,
    "start_time": "2024-08-14T22:19:45.844Z"
   },
   {
    "duration": 7,
    "start_time": "2024-08-14T22:19:45.853Z"
   },
   {
    "duration": 75,
    "start_time": "2024-08-14T22:19:45.863Z"
   },
   {
    "duration": 541,
    "start_time": "2024-08-14T22:19:45.941Z"
   },
   {
    "duration": 14,
    "start_time": "2024-08-14T22:19:46.486Z"
   },
   {
    "duration": 50,
    "start_time": "2024-08-14T22:19:46.503Z"
   },
   {
    "duration": 13,
    "start_time": "2024-08-14T22:19:46.556Z"
   },
   {
    "duration": 105,
    "start_time": "2024-08-14T22:19:46.578Z"
   },
   {
    "duration": 5,
    "start_time": "2024-08-14T22:19:46.686Z"
   },
   {
    "duration": 58,
    "start_time": "2024-08-14T22:19:46.694Z"
   },
   {
    "duration": 19,
    "start_time": "2024-08-14T22:19:46.754Z"
   },
   {
    "duration": 11,
    "start_time": "2024-08-14T22:19:46.777Z"
   },
   {
    "duration": 80,
    "start_time": "2024-08-14T22:19:46.792Z"
   },
   {
    "duration": 590,
    "start_time": "2024-08-14T22:19:46.875Z"
   },
   {
    "duration": 92,
    "start_time": "2024-08-14T22:19:47.468Z"
   },
   {
    "duration": 261,
    "start_time": "2024-08-14T22:19:47.564Z"
   },
   {
    "duration": 841,
    "start_time": "2024-08-14T22:19:47.832Z"
   },
   {
    "duration": 93,
    "start_time": "2024-08-14T22:19:48.678Z"
   },
   {
    "duration": 266,
    "start_time": "2024-08-14T22:19:48.774Z"
   },
   {
    "duration": 825,
    "start_time": "2024-08-14T22:19:49.043Z"
   },
   {
    "duration": 77,
    "start_time": "2024-08-14T22:19:49.871Z"
   },
   {
    "duration": 46,
    "start_time": "2024-08-14T22:19:49.950Z"
   },
   {
    "duration": 61,
    "start_time": "2024-08-14T22:19:49.999Z"
   },
   {
    "duration": 41,
    "start_time": "2024-08-14T22:19:50.063Z"
   },
   {
    "duration": 33,
    "start_time": "2024-08-14T22:19:50.132Z"
   },
   {
    "duration": 16,
    "start_time": "2024-08-14T22:19:50.168Z"
   },
   {
    "duration": 787,
    "start_time": "2024-08-14T22:20:13.158Z"
   },
   {
    "duration": 1254,
    "start_time": "2024-08-14T22:21:38.941Z"
   },
   {
    "duration": 181,
    "start_time": "2024-08-14T22:21:40.199Z"
   },
   {
    "duration": 25,
    "start_time": "2024-08-14T22:21:40.383Z"
   },
   {
    "duration": 29,
    "start_time": "2024-08-14T22:21:40.411Z"
   },
   {
    "duration": 14,
    "start_time": "2024-08-14T22:21:40.444Z"
   },
   {
    "duration": 27,
    "start_time": "2024-08-14T22:21:40.461Z"
   },
   {
    "duration": 43,
    "start_time": "2024-08-14T22:21:40.490Z"
   },
   {
    "duration": 51,
    "start_time": "2024-08-14T22:21:40.536Z"
   },
   {
    "duration": 57,
    "start_time": "2024-08-14T22:21:40.590Z"
   },
   {
    "duration": 93,
    "start_time": "2024-08-14T22:21:40.649Z"
   },
   {
    "duration": 31,
    "start_time": "2024-08-14T22:21:40.745Z"
   },
   {
    "duration": 6,
    "start_time": "2024-08-14T22:21:40.779Z"
   },
   {
    "duration": 11,
    "start_time": "2024-08-14T22:21:40.788Z"
   },
   {
    "duration": 12,
    "start_time": "2024-08-14T22:21:40.837Z"
   },
   {
    "duration": 7,
    "start_time": "2024-08-14T22:21:40.852Z"
   },
   {
    "duration": 1427,
    "start_time": "2024-08-14T22:21:40.862Z"
   },
   {
    "duration": 22,
    "start_time": "2024-08-14T22:21:42.292Z"
   },
   {
    "duration": 1392,
    "start_time": "2024-08-14T22:21:42.316Z"
   },
   {
    "duration": 8,
    "start_time": "2024-08-14T22:21:43.712Z"
   },
   {
    "duration": 9,
    "start_time": "2024-08-14T22:21:43.733Z"
   },
   {
    "duration": 6,
    "start_time": "2024-08-14T22:21:43.745Z"
   },
   {
    "duration": 6,
    "start_time": "2024-08-14T22:21:43.754Z"
   },
   {
    "duration": 77,
    "start_time": "2024-08-14T22:21:43.763Z"
   },
   {
    "duration": 565,
    "start_time": "2024-08-14T22:21:43.843Z"
   },
   {
    "duration": 22,
    "start_time": "2024-08-14T22:21:44.411Z"
   },
   {
    "duration": 28,
    "start_time": "2024-08-14T22:21:44.436Z"
   },
   {
    "duration": 13,
    "start_time": "2024-08-14T22:21:44.467Z"
   },
   {
    "duration": 111,
    "start_time": "2024-08-14T22:21:44.483Z"
   },
   {
    "duration": 5,
    "start_time": "2024-08-14T22:21:44.597Z"
   },
   {
    "duration": 55,
    "start_time": "2024-08-14T22:21:44.606Z"
   },
   {
    "duration": 21,
    "start_time": "2024-08-14T22:21:44.664Z"
   },
   {
    "duration": 17,
    "start_time": "2024-08-14T22:21:44.688Z"
   },
   {
    "duration": 47,
    "start_time": "2024-08-14T22:21:44.734Z"
   },
   {
    "duration": 613,
    "start_time": "2024-08-14T22:21:44.784Z"
   },
   {
    "duration": 85,
    "start_time": "2024-08-14T22:21:45.400Z"
   },
   {
    "duration": 254,
    "start_time": "2024-08-14T22:21:45.489Z"
   },
   {
    "duration": 822,
    "start_time": "2024-08-14T22:21:45.746Z"
   },
   {
    "duration": 99,
    "start_time": "2024-08-14T22:21:46.571Z"
   },
   {
    "duration": 261,
    "start_time": "2024-08-14T22:21:46.674Z"
   },
   {
    "duration": 822,
    "start_time": "2024-08-14T22:21:46.938Z"
   },
   {
    "duration": 77,
    "start_time": "2024-08-14T22:21:47.768Z"
   },
   {
    "duration": 44,
    "start_time": "2024-08-14T22:21:47.848Z"
   },
   {
    "duration": 60,
    "start_time": "2024-08-14T22:21:47.895Z"
   },
   {
    "duration": 40,
    "start_time": "2024-08-14T22:21:47.958Z"
   },
   {
    "duration": 56,
    "start_time": "2024-08-14T22:21:48.001Z"
   },
   {
    "duration": 14,
    "start_time": "2024-08-14T22:21:48.060Z"
   }
  ],
  "kernelspec": {
   "display_name": "Python 3 (ipykernel)",
   "language": "python",
   "name": "python3"
  },
  "language_info": {
   "codemirror_mode": {
    "name": "ipython",
    "version": 3
   },
   "file_extension": ".py",
   "mimetype": "text/x-python",
   "name": "python",
   "nbconvert_exporter": "python",
   "pygments_lexer": "ipython3",
   "version": "3.12.3"
  },
  "toc": {
   "base_numbering": 1,
   "nav_menu": {},
   "number_sections": true,
   "sideBar": true,
   "skip_h1_title": true,
   "title_cell": "Table of Contents",
   "title_sidebar": "Contents",
   "toc_cell": false,
   "toc_position": {},
   "toc_section_display": true,
   "toc_window_display": false
  }
 },
 "nbformat": 4,
 "nbformat_minor": 2
}
